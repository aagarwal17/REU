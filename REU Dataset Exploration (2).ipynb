{
 "cells": [
  {
   "cell_type": "markdown",
   "id": "7935621e",
   "metadata": {},
   "source": [
    "## Imports:"
   ]
  },
  {
   "cell_type": "code",
   "execution_count": 1,
   "id": "959c7a8d",
   "metadata": {},
   "outputs": [],
   "source": [
    "#%% Imports\n",
    "\n",
    "# Basic Imports \n",
    "import numpy as np\n",
    "import pandas as pd\n",
    "\n",
    "# Plotting Imports\n",
    "import matplotlib.pyplot as plt\n",
    "import seaborn as sns\n",
    "%matplotlib inline"
   ]
  },
  {
   "cell_type": "markdown",
   "id": "560864b1",
   "metadata": {},
   "source": [
    "## Reading in the Datafile:"
   ]
  },
  {
   "cell_type": "code",
   "execution_count": 2,
   "id": "aa08d92d",
   "metadata": {},
   "outputs": [
    {
     "name": "stderr",
     "output_type": "stream",
     "text": [
      "/mnt/home/f0102402/anaconda3/lib/python3.8/site-packages/IPython/core/interactiveshell.py:3165: DtypeWarning: Columns (6) have mixed types.Specify dtype option on import or set low_memory=False.\n",
      "  has_raised = await self.run_ast_nodes(code_ast.body, cell_name,\n"
     ]
    },
    {
     "data": {
      "text/html": [
       "<div>\n",
       "<style scoped>\n",
       "    .dataframe tbody tr th:only-of-type {\n",
       "        vertical-align: middle;\n",
       "    }\n",
       "\n",
       "    .dataframe tbody tr th {\n",
       "        vertical-align: top;\n",
       "    }\n",
       "\n",
       "    .dataframe thead th {\n",
       "        text-align: right;\n",
       "    }\n",
       "</style>\n",
       "<table border=\"1\" class=\"dataframe\">\n",
       "  <thead>\n",
       "    <tr style=\"text-align: right;\">\n",
       "      <th></th>\n",
       "      <th>NID</th>\n",
       "      <th>diseaseNID</th>\n",
       "      <th>geneNID</th>\n",
       "      <th>source</th>\n",
       "      <th>association</th>\n",
       "      <th>associationType</th>\n",
       "      <th>sentence</th>\n",
       "      <th>pmid</th>\n",
       "      <th>score</th>\n",
       "      <th>EL</th>\n",
       "      <th>EI</th>\n",
       "      <th>year</th>\n",
       "    </tr>\n",
       "  </thead>\n",
       "  <tbody>\n",
       "    <tr>\n",
       "      <th>0</th>\n",
       "      <td>1130681</td>\n",
       "      <td>2107</td>\n",
       "      <td>793</td>\n",
       "      <td>BEFREE</td>\n",
       "      <td>NaN</td>\n",
       "      <td>Biomarker</td>\n",
       "      <td>No correlation could be found between Broder's...</td>\n",
       "      <td>1000501.0</td>\n",
       "      <td>0.10</td>\n",
       "      <td>NaN</td>\n",
       "      <td>0.956175</td>\n",
       "      <td>1976.0</td>\n",
       "    </tr>\n",
       "    <tr>\n",
       "      <th>1</th>\n",
       "      <td>261998</td>\n",
       "      <td>431</td>\n",
       "      <td>775</td>\n",
       "      <td>BEFREE</td>\n",
       "      <td>NaN</td>\n",
       "      <td>GeneticVariation</td>\n",
       "      <td>However, there are few reports describing soma...</td>\n",
       "      <td>10021299.0</td>\n",
       "      <td>0.40</td>\n",
       "      <td>NaN</td>\n",
       "      <td>0.987013</td>\n",
       "      <td>1999.0</td>\n",
       "    </tr>\n",
       "    <tr>\n",
       "      <th>2</th>\n",
       "      <td>369637</td>\n",
       "      <td>450</td>\n",
       "      <td>775</td>\n",
       "      <td>BEFREE</td>\n",
       "      <td>NaN</td>\n",
       "      <td>GeneticVariation</td>\n",
       "      <td>WAF1 genotype and endometrial cancer susceptib...</td>\n",
       "      <td>10021299.0</td>\n",
       "      <td>0.02</td>\n",
       "      <td>NaN</td>\n",
       "      <td>1.000000</td>\n",
       "      <td>1999.0</td>\n",
       "    </tr>\n",
       "    <tr>\n",
       "      <th>3</th>\n",
       "      <td>2128526</td>\n",
       "      <td>10033</td>\n",
       "      <td>775</td>\n",
       "      <td>BEFREE</td>\n",
       "      <td>NaN</td>\n",
       "      <td>GeneticVariation</td>\n",
       "      <td>WAF1 genotype and endometrial cancer susceptib...</td>\n",
       "      <td>10021299.0</td>\n",
       "      <td>0.07</td>\n",
       "      <td>NaN</td>\n",
       "      <td>1.000000</td>\n",
       "      <td>1999.0</td>\n",
       "    </tr>\n",
       "    <tr>\n",
       "      <th>4</th>\n",
       "      <td>262799</td>\n",
       "      <td>431</td>\n",
       "      <td>7385</td>\n",
       "      <td>BEFREE</td>\n",
       "      <td>NaN</td>\n",
       "      <td>Biomarker</td>\n",
       "      <td>APC and APC2 may therefore have comparable fun...</td>\n",
       "      <td>10021369.0</td>\n",
       "      <td>0.01</td>\n",
       "      <td>NaN</td>\n",
       "      <td>1.000000</td>\n",
       "      <td>1999.0</td>\n",
       "    </tr>\n",
       "  </tbody>\n",
       "</table>\n",
       "</div>"
      ],
      "text/plain": [
       "       NID  diseaseNID  geneNID  source  association   associationType  \\\n",
       "0  1130681        2107      793  BEFREE          NaN         Biomarker   \n",
       "1   261998         431      775  BEFREE          NaN  GeneticVariation   \n",
       "2   369637         450      775  BEFREE          NaN  GeneticVariation   \n",
       "3  2128526       10033      775  BEFREE          NaN  GeneticVariation   \n",
       "4   262799         431     7385  BEFREE          NaN         Biomarker   \n",
       "\n",
       "                                            sentence        pmid  score   EL  \\\n",
       "0  No correlation could be found between Broder's...   1000501.0   0.10  NaN   \n",
       "1  However, there are few reports describing soma...  10021299.0   0.40  NaN   \n",
       "2  WAF1 genotype and endometrial cancer susceptib...  10021299.0   0.02  NaN   \n",
       "3  WAF1 genotype and endometrial cancer susceptib...  10021299.0   0.07  NaN   \n",
       "4  APC and APC2 may therefore have comparable fun...  10021369.0   0.01  NaN   \n",
       "\n",
       "         EI    year  \n",
       "0  0.956175  1976.0  \n",
       "1  0.987013  1999.0  \n",
       "2  1.000000  1999.0  \n",
       "3  1.000000  1999.0  \n",
       "4  1.000000  1999.0  "
      ]
     },
     "execution_count": 2,
     "metadata": {},
     "output_type": "execute_result"
    }
   ],
   "source": [
    "df = pd.read_csv('geneDiseaseNetwork.tsv', sep = \"\\t\")\n",
    "\n",
    "#Printing the first few rows to get a superficial understanding of the dataset\n",
    "df.head()"
   ]
  },
  {
   "cell_type": "markdown",
   "id": "50a5a98f",
   "metadata": {},
   "source": [
    "## Reading in the Datafile with all values as strings:"
   ]
  },
  {
   "cell_type": "code",
   "execution_count": 2,
   "id": "c0713b40",
   "metadata": {},
   "outputs": [
    {
     "data": {
      "text/html": [
       "<div>\n",
       "<style scoped>\n",
       "    .dataframe tbody tr th:only-of-type {\n",
       "        vertical-align: middle;\n",
       "    }\n",
       "\n",
       "    .dataframe tbody tr th {\n",
       "        vertical-align: top;\n",
       "    }\n",
       "\n",
       "    .dataframe thead th {\n",
       "        text-align: right;\n",
       "    }\n",
       "</style>\n",
       "<table border=\"1\" class=\"dataframe\">\n",
       "  <thead>\n",
       "    <tr style=\"text-align: right;\">\n",
       "      <th></th>\n",
       "      <th>NID</th>\n",
       "      <th>diseaseNID</th>\n",
       "      <th>geneNID</th>\n",
       "      <th>source</th>\n",
       "      <th>association</th>\n",
       "      <th>associationType</th>\n",
       "      <th>sentence</th>\n",
       "      <th>pmid</th>\n",
       "      <th>score</th>\n",
       "      <th>EL</th>\n",
       "      <th>EI</th>\n",
       "      <th>year</th>\n",
       "    </tr>\n",
       "  </thead>\n",
       "  <tbody>\n",
       "    <tr>\n",
       "      <th>0</th>\n",
       "      <td>1130681</td>\n",
       "      <td>2107</td>\n",
       "      <td>793</td>\n",
       "      <td>BEFREE</td>\n",
       "      <td>NaN</td>\n",
       "      <td>Biomarker</td>\n",
       "      <td>No correlation could be found between Broder's...</td>\n",
       "      <td>1000501</td>\n",
       "      <td>0.1</td>\n",
       "      <td>NaN</td>\n",
       "      <td>0.956175298804781</td>\n",
       "      <td>1976</td>\n",
       "    </tr>\n",
       "    <tr>\n",
       "      <th>1</th>\n",
       "      <td>261998</td>\n",
       "      <td>431</td>\n",
       "      <td>775</td>\n",
       "      <td>BEFREE</td>\n",
       "      <td>NaN</td>\n",
       "      <td>GeneticVariation</td>\n",
       "      <td>However, there are few reports describing soma...</td>\n",
       "      <td>10021299</td>\n",
       "      <td>0.4</td>\n",
       "      <td>NaN</td>\n",
       "      <td>0.987012987012987</td>\n",
       "      <td>1999</td>\n",
       "    </tr>\n",
       "    <tr>\n",
       "      <th>2</th>\n",
       "      <td>369637</td>\n",
       "      <td>450</td>\n",
       "      <td>775</td>\n",
       "      <td>BEFREE</td>\n",
       "      <td>NaN</td>\n",
       "      <td>GeneticVariation</td>\n",
       "      <td>WAF1 genotype and endometrial cancer susceptib...</td>\n",
       "      <td>10021299</td>\n",
       "      <td>0.02</td>\n",
       "      <td>NaN</td>\n",
       "      <td>1.0</td>\n",
       "      <td>1999</td>\n",
       "    </tr>\n",
       "    <tr>\n",
       "      <th>3</th>\n",
       "      <td>2128526</td>\n",
       "      <td>10033</td>\n",
       "      <td>775</td>\n",
       "      <td>BEFREE</td>\n",
       "      <td>NaN</td>\n",
       "      <td>GeneticVariation</td>\n",
       "      <td>WAF1 genotype and endometrial cancer susceptib...</td>\n",
       "      <td>10021299</td>\n",
       "      <td>0.07</td>\n",
       "      <td>NaN</td>\n",
       "      <td>1.0</td>\n",
       "      <td>1999</td>\n",
       "    </tr>\n",
       "    <tr>\n",
       "      <th>4</th>\n",
       "      <td>262799</td>\n",
       "      <td>431</td>\n",
       "      <td>7385</td>\n",
       "      <td>BEFREE</td>\n",
       "      <td>NaN</td>\n",
       "      <td>Biomarker</td>\n",
       "      <td>APC and APC2 may therefore have comparable fun...</td>\n",
       "      <td>10021369</td>\n",
       "      <td>0.01</td>\n",
       "      <td>NaN</td>\n",
       "      <td>1.0</td>\n",
       "      <td>1999</td>\n",
       "    </tr>\n",
       "    <tr>\n",
       "      <th>...</th>\n",
       "      <td>...</td>\n",
       "      <td>...</td>\n",
       "      <td>...</td>\n",
       "      <td>...</td>\n",
       "      <td>...</td>\n",
       "      <td>...</td>\n",
       "      <td>...</td>\n",
       "      <td>...</td>\n",
       "      <td>...</td>\n",
       "      <td>...</td>\n",
       "      <td>...</td>\n",
       "      <td>...</td>\n",
       "    </tr>\n",
       "    <tr>\n",
       "      <th>3261319</th>\n",
       "      <td>3261082</td>\n",
       "      <td>30235</td>\n",
       "      <td>1698</td>\n",
       "      <td>ORPHANET</td>\n",
       "      <td>NaN</td>\n",
       "      <td>ChromosomalRearrangement</td>\n",
       "      <td>NaN</td>\n",
       "      <td>NaN</td>\n",
       "      <td>0.3</td>\n",
       "      <td>NaN</td>\n",
       "      <td>NaN</td>\n",
       "      <td>NaN</td>\n",
       "    </tr>\n",
       "    <tr>\n",
       "      <th>3261320</th>\n",
       "      <td>3261111</td>\n",
       "      <td>30244</td>\n",
       "      <td>4952</td>\n",
       "      <td>CLINVAR</td>\n",
       "      <td>NaN</td>\n",
       "      <td>GeneticVariation</td>\n",
       "      <td>NaN</td>\n",
       "      <td>NaN</td>\n",
       "      <td>0.2</td>\n",
       "      <td>NaN</td>\n",
       "      <td>1.0</td>\n",
       "      <td>NaN</td>\n",
       "    </tr>\n",
       "    <tr>\n",
       "      <th>3261321</th>\n",
       "      <td>3261162</td>\n",
       "      <td>30255</td>\n",
       "      <td>5756</td>\n",
       "      <td>GENOMICS_ENGLAND</td>\n",
       "      <td>NaN</td>\n",
       "      <td>Biomarker</td>\n",
       "      <td>NaN</td>\n",
       "      <td>NaN</td>\n",
       "      <td>0.3</td>\n",
       "      <td>strong</td>\n",
       "      <td>NaN</td>\n",
       "      <td>NaN</td>\n",
       "    </tr>\n",
       "    <tr>\n",
       "      <th>3261322</th>\n",
       "      <td>3261163</td>\n",
       "      <td>30255</td>\n",
       "      <td>5756</td>\n",
       "      <td>GENOMICS_ENGLAND</td>\n",
       "      <td>NaN</td>\n",
       "      <td>Biomarker</td>\n",
       "      <td>NaN</td>\n",
       "      <td>NaN</td>\n",
       "      <td>0.3</td>\n",
       "      <td>strong</td>\n",
       "      <td>NaN</td>\n",
       "      <td>NaN</td>\n",
       "    </tr>\n",
       "    <tr>\n",
       "      <th>3261323</th>\n",
       "      <td>3261263</td>\n",
       "      <td>30290</td>\n",
       "      <td>12475</td>\n",
       "      <td>ORPHANET</td>\n",
       "      <td>NaN</td>\n",
       "      <td>GeneticVariation</td>\n",
       "      <td>NaN</td>\n",
       "      <td>NaN</td>\n",
       "      <td>0.3</td>\n",
       "      <td>NaN</td>\n",
       "      <td>NaN</td>\n",
       "      <td>NaN</td>\n",
       "    </tr>\n",
       "  </tbody>\n",
       "</table>\n",
       "<p>3261324 rows × 12 columns</p>\n",
       "</div>"
      ],
      "text/plain": [
       "             NID diseaseNID geneNID            source association  \\\n",
       "0        1130681       2107     793            BEFREE         NaN   \n",
       "1         261998        431     775            BEFREE         NaN   \n",
       "2         369637        450     775            BEFREE         NaN   \n",
       "3        2128526      10033     775            BEFREE         NaN   \n",
       "4         262799        431    7385            BEFREE         NaN   \n",
       "...          ...        ...     ...               ...         ...   \n",
       "3261319  3261082      30235    1698          ORPHANET         NaN   \n",
       "3261320  3261111      30244    4952           CLINVAR         NaN   \n",
       "3261321  3261162      30255    5756  GENOMICS_ENGLAND         NaN   \n",
       "3261322  3261163      30255    5756  GENOMICS_ENGLAND         NaN   \n",
       "3261323  3261263      30290   12475          ORPHANET         NaN   \n",
       "\n",
       "                  associationType  \\\n",
       "0                       Biomarker   \n",
       "1                GeneticVariation   \n",
       "2                GeneticVariation   \n",
       "3                GeneticVariation   \n",
       "4                       Biomarker   \n",
       "...                           ...   \n",
       "3261319  ChromosomalRearrangement   \n",
       "3261320          GeneticVariation   \n",
       "3261321                 Biomarker   \n",
       "3261322                 Biomarker   \n",
       "3261323          GeneticVariation   \n",
       "\n",
       "                                                  sentence      pmid score  \\\n",
       "0        No correlation could be found between Broder's...   1000501   0.1   \n",
       "1        However, there are few reports describing soma...  10021299   0.4   \n",
       "2        WAF1 genotype and endometrial cancer susceptib...  10021299  0.02   \n",
       "3        WAF1 genotype and endometrial cancer susceptib...  10021299  0.07   \n",
       "4        APC and APC2 may therefore have comparable fun...  10021369  0.01   \n",
       "...                                                    ...       ...   ...   \n",
       "3261319                                                NaN       NaN   0.3   \n",
       "3261320                                                NaN       NaN   0.2   \n",
       "3261321                                                NaN       NaN   0.3   \n",
       "3261322                                                NaN       NaN   0.3   \n",
       "3261323                                                NaN       NaN   0.3   \n",
       "\n",
       "             EL                 EI  year  \n",
       "0           NaN  0.956175298804781  1976  \n",
       "1           NaN  0.987012987012987  1999  \n",
       "2           NaN                1.0  1999  \n",
       "3           NaN                1.0  1999  \n",
       "4           NaN                1.0  1999  \n",
       "...         ...                ...   ...  \n",
       "3261319     NaN                NaN   NaN  \n",
       "3261320     NaN                1.0   NaN  \n",
       "3261321  strong                NaN   NaN  \n",
       "3261322  strong                NaN   NaN  \n",
       "3261323     NaN                NaN   NaN  \n",
       "\n",
       "[3261324 rows x 12 columns]"
      ]
     },
     "execution_count": 2,
     "metadata": {},
     "output_type": "execute_result"
    }
   ],
   "source": [
    "dftest = pd.read_csv('geneDiseaseNetwork.tsv', sep = \"\\t\", dtype = \"str\")\n",
    "dftest"
   ]
  },
  {
   "cell_type": "markdown",
   "id": "cb686d84",
   "metadata": {},
   "source": [
    "## Learning Info About the Dataset:"
   ]
  },
  {
   "cell_type": "code",
   "execution_count": 3,
   "id": "3767f141",
   "metadata": {},
   "outputs": [
    {
     "name": "stdout",
     "output_type": "stream",
     "text": [
      "The size of the dataset is:  (3261324, 12)\n"
     ]
    },
    {
     "data": {
      "text/html": [
       "<div>\n",
       "<style scoped>\n",
       "    .dataframe tbody tr th:only-of-type {\n",
       "        vertical-align: middle;\n",
       "    }\n",
       "\n",
       "    .dataframe tbody tr th {\n",
       "        vertical-align: top;\n",
       "    }\n",
       "\n",
       "    .dataframe thead th {\n",
       "        text-align: right;\n",
       "    }\n",
       "</style>\n",
       "<table border=\"1\" class=\"dataframe\">\n",
       "  <thead>\n",
       "    <tr style=\"text-align: right;\">\n",
       "      <th></th>\n",
       "      <th>NID</th>\n",
       "      <th>diseaseNID</th>\n",
       "      <th>geneNID</th>\n",
       "      <th>association</th>\n",
       "      <th>pmid</th>\n",
       "      <th>score</th>\n",
       "      <th>EI</th>\n",
       "      <th>year</th>\n",
       "    </tr>\n",
       "  </thead>\n",
       "  <tbody>\n",
       "    <tr>\n",
       "      <th>count</th>\n",
       "      <td>3.261324e+06</td>\n",
       "      <td>3.261324e+06</td>\n",
       "      <td>3.261324e+06</td>\n",
       "      <td>88228.000000</td>\n",
       "      <td>3.057890e+06</td>\n",
       "      <td>3.261324e+06</td>\n",
       "      <td>3.090428e+06</td>\n",
       "      <td>3.057890e+06</td>\n",
       "    </tr>\n",
       "    <tr>\n",
       "      <th>mean</th>\n",
       "      <td>1.630662e+06</td>\n",
       "      <td>7.470427e+03</td>\n",
       "      <td>5.447594e+03</td>\n",
       "      <td>0.070374</td>\n",
       "      <td>2.304652e+07</td>\n",
       "      <td>1.796928e-01</td>\n",
       "      <td>9.727383e-01</td>\n",
       "      <td>2.011842e+03</td>\n",
       "    </tr>\n",
       "    <tr>\n",
       "      <th>std</th>\n",
       "      <td>9.414633e+05</td>\n",
       "      <td>7.690316e+03</td>\n",
       "      <td>5.187942e+03</td>\n",
       "      <td>0.255779</td>\n",
       "      <td>7.106197e+06</td>\n",
       "      <td>2.365360e-01</td>\n",
       "      <td>9.088294e-02</td>\n",
       "      <td>7.085840e+00</td>\n",
       "    </tr>\n",
       "    <tr>\n",
       "      <th>min</th>\n",
       "      <td>1.000000e+00</td>\n",
       "      <td>1.000000e+00</td>\n",
       "      <td>1.000000e+00</td>\n",
       "      <td>0.000000</td>\n",
       "      <td>1.600000e+01</td>\n",
       "      <td>1.000000e-02</td>\n",
       "      <td>0.000000e+00</td>\n",
       "      <td>1.924000e+03</td>\n",
       "    </tr>\n",
       "    <tr>\n",
       "      <th>25%</th>\n",
       "      <td>8.153318e+05</td>\n",
       "      <td>1.492000e+03</td>\n",
       "      <td>1.718000e+03</td>\n",
       "      <td>0.000000</td>\n",
       "      <td>1.820908e+07</td>\n",
       "      <td>3.000000e-02</td>\n",
       "      <td>9.756098e-01</td>\n",
       "      <td>2.008000e+03</td>\n",
       "    </tr>\n",
       "    <tr>\n",
       "      <th>50%</th>\n",
       "      <td>1.630662e+06</td>\n",
       "      <td>3.715000e+03</td>\n",
       "      <td>3.803000e+03</td>\n",
       "      <td>0.000000</td>\n",
       "      <td>2.469791e+07</td>\n",
       "      <td>1.000000e-01</td>\n",
       "      <td>1.000000e+00</td>\n",
       "      <td>2.014000e+03</td>\n",
       "    </tr>\n",
       "    <tr>\n",
       "      <th>75%</th>\n",
       "      <td>2.445993e+06</td>\n",
       "      <td>1.197200e+04</td>\n",
       "      <td>7.049000e+03</td>\n",
       "      <td>0.000000</td>\n",
       "      <td>2.913881e+07</td>\n",
       "      <td>2.000000e-01</td>\n",
       "      <td>1.000000e+00</td>\n",
       "      <td>2.018000e+03</td>\n",
       "    </tr>\n",
       "    <tr>\n",
       "      <th>max</th>\n",
       "      <td>3.261324e+06</td>\n",
       "      <td>3.029300e+04</td>\n",
       "      <td>2.613700e+04</td>\n",
       "      <td>1.000000</td>\n",
       "      <td>3.206309e+07</td>\n",
       "      <td>1.000000e+00</td>\n",
       "      <td>1.000000e+00</td>\n",
       "      <td>2.020000e+03</td>\n",
       "    </tr>\n",
       "  </tbody>\n",
       "</table>\n",
       "</div>"
      ],
      "text/plain": [
       "                NID    diseaseNID       geneNID   association          pmid  \\\n",
       "count  3.261324e+06  3.261324e+06  3.261324e+06  88228.000000  3.057890e+06   \n",
       "mean   1.630662e+06  7.470427e+03  5.447594e+03      0.070374  2.304652e+07   \n",
       "std    9.414633e+05  7.690316e+03  5.187942e+03      0.255779  7.106197e+06   \n",
       "min    1.000000e+00  1.000000e+00  1.000000e+00      0.000000  1.600000e+01   \n",
       "25%    8.153318e+05  1.492000e+03  1.718000e+03      0.000000  1.820908e+07   \n",
       "50%    1.630662e+06  3.715000e+03  3.803000e+03      0.000000  2.469791e+07   \n",
       "75%    2.445993e+06  1.197200e+04  7.049000e+03      0.000000  2.913881e+07   \n",
       "max    3.261324e+06  3.029300e+04  2.613700e+04      1.000000  3.206309e+07   \n",
       "\n",
       "              score            EI          year  \n",
       "count  3.261324e+06  3.090428e+06  3.057890e+06  \n",
       "mean   1.796928e-01  9.727383e-01  2.011842e+03  \n",
       "std    2.365360e-01  9.088294e-02  7.085840e+00  \n",
       "min    1.000000e-02  0.000000e+00  1.924000e+03  \n",
       "25%    3.000000e-02  9.756098e-01  2.008000e+03  \n",
       "50%    1.000000e-01  1.000000e+00  2.014000e+03  \n",
       "75%    2.000000e-01  1.000000e+00  2.018000e+03  \n",
       "max    1.000000e+00  1.000000e+00  2.020000e+03  "
      ]
     },
     "execution_count": 3,
     "metadata": {},
     "output_type": "execute_result"
    }
   ],
   "source": [
    "#Printing the Size of the Dataset:\n",
    "print(\"The size of the dataset is: \", df.shape)\n",
    "\n",
    "#Understanding basic information of the data such as min, max, mean, and standard deviation using describe()\n",
    "df.describe()"
   ]
  },
  {
   "cell_type": "markdown",
   "id": "d5295a5c",
   "metadata": {},
   "source": [
    "## Checking for Missing Values:"
   ]
  },
  {
   "cell_type": "code",
   "execution_count": 4,
   "id": "91ebf255",
   "metadata": {},
   "outputs": [
    {
     "data": {
      "text/plain": [
       "NID                      0\n",
       "diseaseNID               0\n",
       "geneNID                  0\n",
       "source                   0\n",
       "association        3173096\n",
       "associationType          0\n",
       "sentence            203437\n",
       "pmid                203434\n",
       "score                    0\n",
       "EL                 3121898\n",
       "EI                  170896\n",
       "year                203434\n",
       "dtype: int64"
      ]
     },
     "execution_count": 4,
     "metadata": {},
     "output_type": "execute_result"
    }
   ],
   "source": [
    "#Checking For Missing Values:\n",
    "df.isnull().sum()"
   ]
  },
  {
   "cell_type": "markdown",
   "id": "0d4cecf4",
   "metadata": {},
   "source": [
    "From this, it can be seen that I need to deal with the numerous missing values for association, sentence, pmid, EL, EI, and year"
   ]
  },
  {
   "cell_type": "code",
   "execution_count": 5,
   "id": "294680e6",
   "metadata": {},
   "outputs": [
    {
     "data": {
      "text/plain": [
       "array(['Biomarker', 'GeneticVariation', 'AlteredExpression',\n",
       "       'PosttranslationalModification', 'CausalMutation',\n",
       "       'ChromosomalRearrangement', 'GermlineCausalMutation',\n",
       "       'Therapeutic', 'ModifyingMutation', 'SusceptibilityMutation',\n",
       "       'SomaticCausalMutation', 'FusionGene', 'GermlineModifyingMutation',\n",
       "       'GenomicAlterations'], dtype=object)"
      ]
     },
     "execution_count": 5,
     "metadata": {},
     "output_type": "execute_result"
    }
   ],
   "source": [
    "df['associationType'].unique()"
   ]
  },
  {
   "cell_type": "markdown",
   "id": "5acd6107",
   "metadata": {},
   "source": [
    "The different Association Types in this dataset can now be seen"
   ]
  },
  {
   "cell_type": "code",
   "execution_count": 6,
   "id": "215bd27b",
   "metadata": {},
   "outputs": [
    {
     "data": {
      "text/plain": [
       "array([nan,  0.,  1.])"
      ]
     },
     "execution_count": 6,
     "metadata": {},
     "output_type": "execute_result"
    }
   ],
   "source": [
    "df['association'].unique()"
   ]
  },
  {
   "cell_type": "code",
   "execution_count": 7,
   "id": "26a51503",
   "metadata": {},
   "outputs": [
    {
     "data": {
      "text/plain": [
       "30170"
      ]
     },
     "execution_count": 7,
     "metadata": {},
     "output_type": "execute_result"
    }
   ],
   "source": [
    "numdis = df['diseaseNID'].unique()\n",
    "numdis.size"
   ]
  },
  {
   "cell_type": "code",
   "execution_count": 8,
   "id": "f67c00ae",
   "metadata": {},
   "outputs": [
    {
     "data": {
      "text/plain": [
       "21671"
      ]
     },
     "execution_count": 8,
     "metadata": {},
     "output_type": "execute_result"
    }
   ],
   "source": [
    "numgene = df['geneNID'].unique()\n",
    "numgene.size"
   ]
  },
  {
   "cell_type": "code",
   "execution_count": 11,
   "id": "856a5066",
   "metadata": {},
   "outputs": [
    {
     "data": {
      "text/plain": [
       "array(['BEFREE', 'MGD', 'UNIPROT', 'CTD_human', 'RGD', 'CLINVAR',\n",
       "       'CLINGEN', 'GENOMICS_ENGLAND', 'ORPHANET', 'PSYGENET', 'LHGDN',\n",
       "       'CTD_mouse', 'GWASDB', 'GWASCAT', 'CTD_rat', 'HPO', 'CGI'],\n",
       "      dtype=object)"
      ]
     },
     "execution_count": 11,
     "metadata": {},
     "output_type": "execute_result"
    }
   ],
   "source": [
    "df['source'].unique()"
   ]
  },
  {
   "cell_type": "code",
   "execution_count": 9,
   "id": "b4b4ee6f",
   "metadata": {},
   "outputs": [
    {
     "name": "stdout",
     "output_type": "stream",
     "text": [
      "<class 'pandas.core.frame.DataFrame'>\n",
      "RangeIndex: 3261324 entries, 0 to 3261323\n",
      "Data columns (total 12 columns):\n",
      " #   Column           Dtype  \n",
      "---  ------           -----  \n",
      " 0   NID              int64  \n",
      " 1   diseaseNID       int64  \n",
      " 2   geneNID          int64  \n",
      " 3   source           object \n",
      " 4   association      float64\n",
      " 5   associationType  object \n",
      " 6   sentence         object \n",
      " 7   pmid             float64\n",
      " 8   score            float64\n",
      " 9   EL               object \n",
      " 10  EI               float64\n",
      " 11  year             float64\n",
      "dtypes: float64(5), int64(3), object(4)\n",
      "memory usage: 298.6+ MB\n"
     ]
    }
   ],
   "source": [
    "#info() outputs basic information of the data set, including features and their data types\n",
    "df.info()"
   ]
  },
  {
   "cell_type": "markdown",
   "id": "442c955e",
   "metadata": {},
   "source": [
    "Things to Note:\n",
    "1. source, associationType, sentence, and EL are object datatypes -- should I convert them to str?\n",
    "2. association is a numerical float value. Still need to determine what this represents\n",
    "3. year is a float and needs to be converted to int"
   ]
  },
  {
   "cell_type": "markdown",
   "id": "5ead1d19",
   "metadata": {},
   "source": [
    "## Hierarchy of Association Types:\n",
    "Image taken from https://www.disgenet.org/dbinfo"
   ]
  },
  {
   "cell_type": "code",
   "execution_count": 3,
   "id": "15e247b8",
   "metadata": {},
   "outputs": [
    {
     "data": {
      "image/png": "[encoded data removed]",
      "text/plain": [
       "<IPython.core.display.Image object>"
      ]
     },
     "execution_count": 3,
     "metadata": {},
     "output_type": "execute_result"
    }
   ],
   "source": [
    "from IPython import display\n",
    "display.Image(\"./hierarchy.PNG\")"
   ]
  },
  {
   "cell_type": "markdown",
   "id": "c50a3517",
   "metadata": {},
   "source": [
    "### The description of each association type in the ontology is:\n",
    "\n",
    "- Therapeutic: This relationship indicates that the gene/protein has a therapeutic role in the amelioration of the disease.\n",
    "- Biomarker: This relationship indicates that the gene/protein either plays a role in the etiology of the disease (e.g. participates in the molecular mechanism that leads to disease) or is a biomarker for a disease.\n",
    "- Genomic Alterations: This relationship indicates that a genomic alteration is linked to the gene associated with the disease phenotype.\n",
    "- GeneticVariation: This relationship indicates that a sequence variation (a mutation, a SNP) is associated with the disease phenotype, but there is still no evidence to say that the variation causes the disease.\n",
    "- Causal Mutation: This relationship indicates that there are allelic variants or mutations known to cause the disease.\n",
    "- Germline Causal Mutation: This relationship indicates that there are germline allelic variants or mutations known to cause the disease, and they may be passed on to offspring.\n",
    "- Somatic Causal Mutation: This relationship indicates that there are somatic allelic variants or mutations known to cause the disease, but they may not be passed on to offspring.\n",
    "- Chromosomal Rearrangement: This relationship indicates that a gene is included in a chromosomal rearrangement associated with a particular manifestation of the disease.\n",
    "- Fusion Gene: This relationship indicates that the fusion between two different genes (between promoter and/or other coding DNA regions) is associated with the disease.\n",
    "- Susceptibility Mutation: This relationship indicates that a gene mutation in a germ cell that predisposes to the development of a disorder, and that is necessary but not sufficient for the manifestation of the disease.\n",
    "- Modifying Mutation: This relationship indicates that a gene mutation is known to modify the clinical presentation of the disease.\n",
    "- Germline Modifying Mutation: This relationship indicates that a germline gene mutation modifies the clinical presentation of the disease, and it may be passed on to offspring.\n",
    "- Somatic Modifying Mutation: This relationship indicates that a somatic gene mutation modifies the clinical presentation of the disease, but it may not be passed on to offspring.\n",
    "- AlteredExpression: This relationship indicates that an altered expression of the gene is associated with the disease phenotype.\n",
    "- Post-translational Modification: This relationship indicates that alterations in the function of the protein by means of post-translational modifications (methylation or phosphorylation of the protein) are associated with the disease phenotype."
   ]
  },
  {
   "cell_type": "markdown",
   "id": "42f4286b",
   "metadata": {},
   "source": [
    "## Boxplot of pmid by Association Type:"
   ]
  },
  {
   "cell_type": "code",
   "execution_count": 11,
   "id": "973c928c",
   "metadata": {},
   "outputs": [
    {
     "data": {
      "text/plain": [
       "<AxesSubplot:title={'center':'pmid'}, xlabel='associationType'>"
      ]
     },
     "execution_count": 11,
     "metadata": {},
     "output_type": "execute_result"
    },
    {
     "data": {
      "image/png": "[encoded data removed]",
      "text/plain": [
       "<Figure size 1080x576 with 1 Axes>"
      ]
     },
     "metadata": {
      "needs_background": "light"
     },
     "output_type": "display_data"
    }
   ],
   "source": [
    "df.boxplot(column = 'pmid', by = 'associationType', figsize = (15,8), rot = 70)"
   ]
  },
  {
   "cell_type": "code",
   "execution_count": 13,
   "id": "80034706",
   "metadata": {},
   "outputs": [
    {
     "data": {
      "text/html": [
       "<div>\n",
       "<style scoped>\n",
       "    .dataframe tbody tr th:only-of-type {\n",
       "        vertical-align: middle;\n",
       "    }\n",
       "\n",
       "    .dataframe tbody tr th {\n",
       "        vertical-align: top;\n",
       "    }\n",
       "\n",
       "    .dataframe thead th {\n",
       "        text-align: right;\n",
       "    }\n",
       "</style>\n",
       "<table border=\"1\" class=\"dataframe\">\n",
       "  <thead>\n",
       "    <tr style=\"text-align: right;\">\n",
       "      <th></th>\n",
       "      <th>associationType</th>\n",
       "      <th>Sum by Association Type</th>\n",
       "    </tr>\n",
       "  </thead>\n",
       "  <tbody>\n",
       "    <tr>\n",
       "      <th>0</th>\n",
       "      <td>Biomarker</td>\n",
       "      <td>1708286</td>\n",
       "    </tr>\n",
       "    <tr>\n",
       "      <th>1</th>\n",
       "      <td>GeneticVariation</td>\n",
       "      <td>800444</td>\n",
       "    </tr>\n",
       "    <tr>\n",
       "      <th>2</th>\n",
       "      <td>AlteredExpression</td>\n",
       "      <td>638378</td>\n",
       "    </tr>\n",
       "    <tr>\n",
       "      <th>3</th>\n",
       "      <td>CausalMutation</td>\n",
       "      <td>65588</td>\n",
       "    </tr>\n",
       "    <tr>\n",
       "      <th>4</th>\n",
       "      <td>PosttranslationalModification</td>\n",
       "      <td>28738</td>\n",
       "    </tr>\n",
       "    <tr>\n",
       "      <th>5</th>\n",
       "      <td>Therapeutic</td>\n",
       "      <td>10744</td>\n",
       "    </tr>\n",
       "    <tr>\n",
       "      <th>6</th>\n",
       "      <td>GermlineCausalMutation</td>\n",
       "      <td>6275</td>\n",
       "    </tr>\n",
       "    <tr>\n",
       "      <th>7</th>\n",
       "      <td>SusceptibilityMutation</td>\n",
       "      <td>1260</td>\n",
       "    </tr>\n",
       "    <tr>\n",
       "      <th>8</th>\n",
       "      <td>GenomicAlterations</td>\n",
       "      <td>397</td>\n",
       "    </tr>\n",
       "    <tr>\n",
       "      <th>9</th>\n",
       "      <td>ModifyingMutation</td>\n",
       "      <td>326</td>\n",
       "    </tr>\n",
       "    <tr>\n",
       "      <th>10</th>\n",
       "      <td>FusionGene</td>\n",
       "      <td>315</td>\n",
       "    </tr>\n",
       "    <tr>\n",
       "      <th>11</th>\n",
       "      <td>SomaticCausalMutation</td>\n",
       "      <td>285</td>\n",
       "    </tr>\n",
       "    <tr>\n",
       "      <th>12</th>\n",
       "      <td>ChromosomalRearrangement</td>\n",
       "      <td>223</td>\n",
       "    </tr>\n",
       "    <tr>\n",
       "      <th>13</th>\n",
       "      <td>GermlineModifyingMutation</td>\n",
       "      <td>65</td>\n",
       "    </tr>\n",
       "  </tbody>\n",
       "</table>\n",
       "</div>"
      ],
      "text/plain": [
       "                  associationType  Sum by Association Type\n",
       "0                       Biomarker                  1708286\n",
       "1                GeneticVariation                   800444\n",
       "2               AlteredExpression                   638378\n",
       "3                  CausalMutation                    65588\n",
       "4   PosttranslationalModification                    28738\n",
       "5                     Therapeutic                    10744\n",
       "6          GermlineCausalMutation                     6275\n",
       "7          SusceptibilityMutation                     1260\n",
       "8              GenomicAlterations                      397\n",
       "9               ModifyingMutation                      326\n",
       "10                     FusionGene                      315\n",
       "11          SomaticCausalMutation                      285\n",
       "12       ChromosomalRearrangement                      223\n",
       "13      GermlineModifyingMutation                       65"
      ]
     },
     "execution_count": 13,
     "metadata": {},
     "output_type": "execute_result"
    }
   ],
   "source": [
    "sortingdf = df.groupby('associationType').size().sort_values(ascending=False) \\\n",
    "  .reset_index(name='Sum by Association Type')\n",
    "sortingdf"
   ]
  },
  {
   "cell_type": "markdown",
   "id": "7b66e3e6",
   "metadata": {},
   "source": [
    "I do not believe the below boxplot is the correct thing I am supposed to be making but I have kept it in just in case:"
   ]
  },
  {
   "cell_type": "code",
   "execution_count": 14,
   "id": "d24a3d72",
   "metadata": {},
   "outputs": [
    {
     "data": {
      "text/plain": [
       "<AxesSubplot:title={'center':'Sum by Association Type'}, xlabel='associationType'>"
      ]
     },
     "execution_count": 14,
     "metadata": {},
     "output_type": "execute_result"
    },
    {
     "data": {
      "image/png": "[encoded data removed]",
      "text/plain": [
       "<Figure size 1080x576 with 1 Axes>"
      ]
     },
     "metadata": {
      "needs_background": "light"
     },
     "output_type": "display_data"
    }
   ],
   "source": [
    "sortingdf.boxplot(column = 'Sum by Association Type', by = 'associationType', figsize = (15,8), rot = 70)"
   ]
  },
  {
   "cell_type": "markdown",
   "id": "90fd8635",
   "metadata": {},
   "source": [
    "## Boxplot, Fraction Version: (still need to figure out)"
   ]
  },
  {
   "cell_type": "code",
   "execution_count": 17,
   "id": "99246dc6",
   "metadata": {
    "scrolled": true
   },
   "outputs": [
    {
     "ename": "SyntaxError",
     "evalue": "invalid syntax (<ipython-input-17-cf898f172886>, line 1)",
     "output_type": "error",
     "traceback": [
      "\u001b[0;36m  File \u001b[0;32m\"<ipython-input-17-cf898f172886>\"\u001b[0;36m, line \u001b[0;32m1\u001b[0m\n\u001b[0;31m    df.boxplot((column = 'pmid')/3261324, by = 'associationType', figsize = (15,8), rot = 70)\u001b[0m\n\u001b[0m                       ^\u001b[0m\n\u001b[0;31mSyntaxError\u001b[0m\u001b[0;31m:\u001b[0m invalid syntax\n"
     ]
    }
   ],
   "source": [
    "df.boxplot(column = 'pmid', by = 'associationType', figsize = (15,8), rot = 70)"
   ]
  },
  {
   "cell_type": "markdown",
   "id": "75f7966a",
   "metadata": {},
   "source": [
    "### My Current Questions:\n",
    "What does NID stand for?\n",
    "\n",
    "What is pmid column?\n",
    "\n",
    "What do the association and score columns tell/provide?\n",
    "\n",
    "Have I made the above boxplot correctly?\n",
    "\n",
    "I am supposed to make a botplot that is \"the fraction of genes for a disease from that association type.\" I am still not sure what the numerator and denominator of this fraction is."
   ]
  },
  {
   "cell_type": "code",
   "execution_count": null,
   "id": "fd947416",
   "metadata": {},
   "outputs": [],
   "source": []
  }
 ],
 "metadata": {
  "kernelspec": {
   "display_name": "Python 3",
   "language": "python",
   "name": "python3"
  },
  "language_info": {
   "codemirror_mode": {
    "name": "ipython",
    "version": 3
   },
   "file_extension": ".py",
   "mimetype": "text/x-python",
   "name": "python",
   "nbconvert_exporter": "python",
   "pygments_lexer": "ipython3",
   "version": "3.8.8"
  }
 },
 "nbformat": 4,
 "nbformat_minor": 5
}
