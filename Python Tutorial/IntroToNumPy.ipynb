{
 "cells": [
  {
   "cell_type": "markdown",
   "metadata": {
    "colab_type": "text",
    "id": "_I4Tulmj8Eid"
   },
   "source": [
    "# An introduction to NumPy\n",
    "\n",
    "This notebook should provide you with a basic walk through of some of the things you can do using NumPy arrays in Python. Should you wish to explore NumPy further, check out some of the links below.\n",
    "\n",
    "### Some useful links:\n",
    "\n",
    "* [Numpy quickstart](https://docs.scipy.org/doc/numpy-dev/user/quickstart.html)\n",
    "* [A useful numpy tutorial](http://cs231n.github.io/python-numpy-tutorial/#numpy)\n",
    "* [Numpy array creation methods](http://docs.scipy.org/doc/numpy/reference/routines.array-creation.html)\n",
    "* [Numpy array slicing/indexing tutorial](http://cs231n.github.io/python-numpy-tutorial/#numpy-array-indexing)\n",
    "* [Numpy array slicing and indexing techniques](http://docs.scipy.org/doc/numpy/reference/arrays.indexing.html) (more extensive documentation)\n",
    "* [The Numpy random module](http://docs.scipy.org/doc/numpy/reference/routines.random.html)"
   ]
  },
  {
   "cell_type": "markdown",
   "metadata": {
    "colab_type": "text",
    "id": "L2hkcV3c8Eig"
   },
   "source": [
    "# Always `import` NumPy!\n",
    "\n",
    "One of the first things we need to do if we're going to use NumPy in Python is import the module. The Python community commonly imports NumPy as `np` to avoid having to constantly type \"numpy\".\n",
    "\n",
    "Run the cell below to make sure NumPy is imported!"
   ]
  },
  {
   "cell_type": "code",
   "execution_count": 1,
   "metadata": {
    "colab": {},
    "colab_type": "code",
    "id": "nS7hn9-B8Eih"
   },
   "outputs": [],
   "source": [
    "import numpy as np"
   ]
  },
  {
   "cell_type": "markdown",
   "metadata": {
    "colab_type": "text",
    "id": "AeH6xqVQ8Eim"
   },
   "source": [
    "---\n",
    "# Basics of creating arrays\n",
    "\n",
    "Now that we have NumPy imported, let's walk through a first different ways that we can create NumPy array. We'll explore the following methods:\n",
    "\n",
    "1. Generating arrays filled with zeros or ones\n",
    "1. Generating arrays from lists\n",
    "1. Generating a range of numbers using `np.linspace` or np.arange\n",
    "1. Generating random numbers using the `np.random` module"
   ]
  },
  {
   "cell_type": "markdown",
   "metadata": {
    "colab_type": "text",
    "id": "NwxzeWg78Ein"
   },
   "source": [
    "## Arrays of zero or ones\n",
    "\n",
    "Let's first create a one-dimensional (1D) array of zeros with 10 elements called `all_zeros` using the [`np.zeros()`](https://docs.scipy.org/doc/numpy-1.15.0/reference/generated/numpy.zeros.html) function and then print it out."
   ]
  },
  {
   "cell_type": "code",
   "execution_count": 2,
   "metadata": {
    "colab": {},
    "colab_type": "code",
    "id": "3Ba95C078Eip"
   },
   "outputs": [
    {
     "name": "stdout",
     "output_type": "stream",
     "text": [
      "[0. 0. 0. 0. 0. 0. 0. 0. 0. 0.]\n"
     ]
    }
   ],
   "source": [
    "all_zeros = np.zeros(10)\n",
    "print(all_zeros)"
   ]
  },
  {
   "cell_type": "markdown",
   "metadata": {
    "colab_type": "text",
    "id": "qAhEeHvp8Eiy"
   },
   "source": [
    "The `np.zeros` function takes an array \"shape\" to determine how many zeros to generate. In the example above, to generate a simple 1D, the shape argument is just 10, but if we wanted to create a two-dimensional (2D) array, we need to give it a \"tuple\" with two numbers to define the number of rows and columns.\n",
    "\n",
    "Let's create a 2D array with **8 rows** and **10 columns**."
   ]
  },
  {
   "cell_type": "code",
   "execution_count": 3,
   "metadata": {
    "colab": {},
    "colab_type": "code",
    "id": "MLz7U2lg8Eiy"
   },
   "outputs": [
    {
     "name": "stdout",
     "output_type": "stream",
     "text": [
      "[[0. 0. 0. 0. 0. 0. 0. 0. 0. 0.]\n",
      " [0. 0. 0. 0. 0. 0. 0. 0. 0. 0.]\n",
      " [0. 0. 0. 0. 0. 0. 0. 0. 0. 0.]\n",
      " [0. 0. 0. 0. 0. 0. 0. 0. 0. 0.]\n",
      " [0. 0. 0. 0. 0. 0. 0. 0. 0. 0.]\n",
      " [0. 0. 0. 0. 0. 0. 0. 0. 0. 0.]\n",
      " [0. 0. 0. 0. 0. 0. 0. 0. 0. 0.]\n",
      " [0. 0. 0. 0. 0. 0. 0. 0. 0. 0.]]\n"
     ]
    }
   ],
   "source": [
    "more_zeros = np.zeros((8,10))\n",
    "print(more_zeros)"
   ]
  },
  {
   "cell_type": "markdown",
   "metadata": {
    "colab_type": "text",
    "id": "hwlCudvs8Ei4"
   },
   "source": [
    "You can also create three-dimensional (3D) arrays by providing a third number. **Feel free to test that out in the empty cell below!**"
   ]
  },
  {
   "cell_type": "code",
   "execution_count": 5,
   "metadata": {
    "colab": {},
    "colab_type": "code",
    "id": "8AsyPl-r8Ei5"
   },
   "outputs": [
    {
     "name": "stdout",
     "output_type": "stream",
     "text": [
      "[[[0. 0. 0. 0.]\n",
      "  [0. 0. 0. 0.]\n",
      "  [0. 0. 0. 0.]]\n",
      "\n",
      " [[0. 0. 0. 0.]\n",
      "  [0. 0. 0. 0.]\n",
      "  [0. 0. 0. 0.]]]\n"
     ]
    }
   ],
   "source": [
    "# Test out generating more arrays of zeros here!\n",
    "more = np.zeros((2,3,4))\n",
    "print(more)"
   ]
  },
  {
   "cell_type": "markdown",
   "metadata": {
    "colab_type": "text",
    "id": "4H6I0Y8M8Ei9"
   },
   "source": [
    "In some cases, it's more useful to initialize our arrays with ones instead of zeros. For this, we can use [`np.ones()`](https://docs.scipy.org/doc/numpy/reference/generated/numpy.ones.html). This function operates identically to `np.zeros()`. Trying generating and printing some 1D and 2D arrays full of zeros."
   ]
  },
  {
   "cell_type": "code",
   "execution_count": 0,
   "metadata": {
    "colab": {},
    "colab_type": "code",
    "id": "xoQ7kcXz8Ei-"
   },
   "outputs": [],
   "source": [
    "# Test out np.ones here!\n"
   ]
  },
  {
   "cell_type": "markdown",
   "metadata": {
    "colab_type": "text",
    "id": "pQdLkZfJ8EjB"
   },
   "source": [
    "## Creating arrays from Python lists\n",
    "\n",
    "What if we already have a set of numbers that we want to use to fill a NumPy array? NumPy can be used to generate arrays from Python lists using the `np.array()` function.\n",
    "\n",
    "**Run the code below for an example of how this works.** (Note that we use the `type()` function to check that NumPy did what we wanted.)"
   ]
  },
  {
   "cell_type": "code",
   "execution_count": 6,
   "metadata": {
    "colab": {},
    "colab_type": "code",
    "id": "cisEKC_c8EjD"
   },
   "outputs": [
    {
     "name": "stdout",
     "output_type": "stream",
     "text": [
      "[3, 1, 5, 9, 7, 11] <class 'list'>\n",
      "[ 3  1  5  9  7 11] <class 'numpy.ndarray'>\n"
     ]
    }
   ],
   "source": [
    "# Define my list\n",
    "my_list = [3,1,5,9,7,11]\n",
    "print(my_list, type(my_list))\n",
    "\n",
    "# Convert it to an array\n",
    "my_array = np.array(my_list)\n",
    "print(my_array, type(my_array))"
   ]
  },
  {
   "cell_type": "markdown",
   "metadata": {
    "colab_type": "text",
    "id": "cnwoUfyE8EjK"
   },
   "source": [
    "Of course, we don't have to define the list separately, we can do it all in one line:"
   ]
  },
  {
   "cell_type": "code",
   "execution_count": 7,
   "metadata": {
    "colab": {},
    "colab_type": "code",
    "id": "wzDnzChP8EjM"
   },
   "outputs": [
    {
     "name": "stdout",
     "output_type": "stream",
     "text": [
      "[ 3  1  5  9  7 11] <class 'numpy.ndarray'>\n"
     ]
    }
   ],
   "source": [
    "my_array = np.array([3,1,5,9,7,11])\n",
    "print(my_array, type(my_array))"
   ]
  },
  {
   "cell_type": "markdown",
   "metadata": {
    "colab_type": "text",
    "id": "xG6fabVY8EjQ"
   },
   "source": [
    "Try creating some of your own arrays!"
   ]
  },
  {
   "cell_type": "code",
   "execution_count": 0,
   "metadata": {
    "colab": {},
    "colab_type": "code",
    "id": "f9ahjeDE8EjS"
   },
   "outputs": [],
   "source": [
    "# Test out this method of array generation here!\n"
   ]
  },
  {
   "cell_type": "markdown",
   "metadata": {
    "colab_type": "text",
    "id": "w9jtmAvZ8EjW"
   },
   "source": [
    "We can also do this to create 2D arrays.\n",
    "\n",
    "**Run the following code to try this out.**"
   ]
  },
  {
   "cell_type": "code",
   "execution_count": 10,
   "metadata": {
    "colab": {},
    "colab_type": "code",
    "id": "OehdqtEN8EjX"
   },
   "outputs": [
    {
     "name": "stdout",
     "output_type": "stream",
     "text": [
      "[[89, 74, 78, 77, 84], [79, 40, 92, 23, 67], [29, 91, 91, 92, 6], [62, 29, 71, 47, 89]]\n"
     ]
    }
   ],
   "source": [
    "my_values = [[89, 74, 78, 77, 84],\n",
    "             [79, 40, 92, 23, 67],\n",
    "             [29, 91, 91, 92,  6],\n",
    "             [62, 29, 71, 47, 89]]\n",
    "my_2D_array = np.array(my_values)\n",
    "print(my_values)"
   ]
  },
  {
   "cell_type": "markdown",
   "metadata": {
    "colab_type": "text",
    "id": "sIAuaSsQ8Ejc"
   },
   "source": [
    "#### What if we want to know what the dimensions of our array are?\n",
    "\n",
    "Arrays have a really handy attribute that hang off of the array object itself, called `shape`. This tells us the dimensions of our array. **Try it out!**"
   ]
  },
  {
   "cell_type": "code",
   "execution_count": 11,
   "metadata": {
    "colab": {},
    "colab_type": "code",
    "id": "nWHima408Eje"
   },
   "outputs": [
    {
     "name": "stdout",
     "output_type": "stream",
     "text": [
      "(4, 5)\n"
     ]
    }
   ],
   "source": [
    "print(my_2D_array.shape)"
   ]
  },
  {
   "cell_type": "markdown",
   "metadata": {
    "colab_type": "text",
    "id": "qb60x1n48Ej2"
   },
   "source": [
    "As we can see, the 2D array we created has **4 rows** and **5 columns**."
   ]
  },
  {
   "cell_type": "markdown",
   "metadata": {
    "colab_type": "text",
    "id": "zh509bCV8Ej5"
   },
   "source": [
    "If we just want to know how many total elements are in the array, we can use the `size` attribute. And, if we wanted to know the dimensionality of our array, we can use the `ndim` attribute.\n",
    "\n",
    "**Try testing these two attributes out in the next cell.**"
   ]
  },
  {
   "cell_type": "code",
   "execution_count": 13,
   "metadata": {
    "colab": {},
    "colab_type": "code",
    "id": "y9Dou9NX8Ej6"
   },
   "outputs": [
    {
     "data": {
      "text/plain": [
       "2"
      ]
     },
     "execution_count": 13,
     "metadata": {},
     "output_type": "execute_result"
    }
   ],
   "source": [
    "# Try printing out the \"size\" and the number of dimensions, \"ndim\"\n",
    "my_2D_array.ndim"
   ]
  },
  {
   "cell_type": "markdown",
   "metadata": {
    "colab_type": "text",
    "id": "2y-wRtpP8EkA"
   },
   "source": [
    "## Generating a range of numbers"
   ]
  },
  {
   "cell_type": "markdown",
   "metadata": {
    "colab_type": "text",
    "id": "tf9muhq88EkC"
   },
   "source": [
    "Sometimes it can be really useful to generate a range of evenly spaced numbers. For these situations, this is where `np.linspace` and `np.arange` come in handy. While these two functions do similar things, they go about it in slightly different ways.\n",
    "\n",
    "`np.linspace` takes, as input, the starting value, the stopping value, and the number of values your want to span that range. Like so:"
   ]
  },
  {
   "cell_type": "code",
   "execution_count": 14,
   "metadata": {
    "colab": {},
    "colab_type": "code",
    "id": "A-N2q0nm8EkE"
   },
   "outputs": [
    {
     "name": "stdout",
     "output_type": "stream",
     "text": [
      "[  5.  10.  15.  20.  25.  30.  35.  40.  45.  50.  55.  60.  65.  70.\n",
      "  75.  80.  85.  90.  95. 100.]\n",
      "The array has 20 elements\n"
     ]
    }
   ],
   "source": [
    "ls_array = np.linspace(5,100,20)\n",
    "print(ls_array)\n",
    "print(\"The array has\", ls_array.size, \"elements\")"
   ]
  },
  {
   "cell_type": "markdown",
   "metadata": {
    "colab_type": "text",
    "id": "98S8UwfK8EkK"
   },
   "source": [
    "`np.arange` takes, as input, the starting values, the stopping, values, and the step size between elements. Like so:"
   ]
  },
  {
   "cell_type": "code",
   "execution_count": 15,
   "metadata": {
    "colab": {},
    "colab_type": "code",
    "id": "DMqhP9an8EkK"
   },
   "outputs": [
    {
     "name": "stdout",
     "output_type": "stream",
     "text": [
      "[ 5 10 15 20 25 30 35 40 45 50 55 60 65 70 75 80 85 90 95]\n",
      "The array has 19 elements\n"
     ]
    }
   ],
   "source": [
    "ar_array = np.arange(5,100,5)\n",
    "print(ar_array)\n",
    "print(\"The array has\", ar_array.size, \"elements\")"
   ]
  },
  {
   "cell_type": "markdown",
   "metadata": {
    "colab_type": "text",
    "id": "bm4oYOun8EkQ"
   },
   "source": [
    "Notice that `np.arange` is not inclusive of the end of the range provided. If I want to make sure I get the same number of elements as `np.linspace` for the same step size between values, I would need to do something like this:"
   ]
  },
  {
   "cell_type": "code",
   "execution_count": 16,
   "metadata": {
    "colab": {},
    "colab_type": "code",
    "id": "XHiAJJ8w8EkQ"
   },
   "outputs": [
    {
     "name": "stdout",
     "output_type": "stream",
     "text": [
      "[  5  10  15  20  25  30  35  40  45  50  55  60  65  70  75  80  85  90\n",
      "  95 100]\n",
      "The array has 20 elements\n"
     ]
    }
   ],
   "source": [
    "ar_array = np.arange(5,101,5)\n",
    "print(ar_array)\n",
    "print(\"The array has\", ar_array.size, \"elements\")"
   ]
  },
  {
   "cell_type": "markdown",
   "metadata": {
    "colab_type": "text",
    "id": "rb_n7FDo8EkV"
   },
   "source": [
    "Play around with `np.linspace` and `np.arange` to get a feel for how they work!"
   ]
  },
  {
   "cell_type": "code",
   "execution_count": 0,
   "metadata": {
    "colab": {},
    "colab_type": "code",
    "id": "09BrdzFN8EkW"
   },
   "outputs": [],
   "source": [
    "# Try creating some of your own arrays using np.linspace and np.arange\n"
   ]
  },
  {
   "cell_type": "markdown",
   "metadata": {
    "colab_type": "text",
    "id": "iRYOjFLs8EkZ"
   },
   "source": [
    "## Generating arrays of random numbers\n",
    "\n",
    "One final method we'll look at for generating arrays is using the `np.random` module. There are [many](https://docs.scipy.org/doc/numpy-1.15.1/reference/routines.random.html) different ways to generate random numbers with NumPy, from a variety of different distributions. We'll just look at a few simple ones."
   ]
  },
  {
   "cell_type": "markdown",
   "metadata": {
    "colab_type": "text",
    "id": "3uR8wrrn8Eka"
   },
   "source": [
    "Let's first just look at how we can quickly creating random numbers from a uniform distribution over the half-open interval [0,1) using `np.random.random()`:"
   ]
  },
  {
   "cell_type": "code",
   "execution_count": 17,
   "metadata": {
    "colab": {},
    "colab_type": "code",
    "id": "-o13iM9S8Ekb"
   },
   "outputs": [
    {
     "name": "stdout",
     "output_type": "stream",
     "text": [
      "[[0.47210935 0.44179667 0.95765049]\n",
      " [0.47256214 0.79592165 0.38720685]\n",
      " [0.74798609 0.46064654 0.33856774]\n",
      " [0.11286613 0.65169992 0.67793607]\n",
      " [0.59053124 0.68750491 0.742804  ]\n",
      " [0.93890275 0.76437592 0.45071895]]\n"
     ]
    }
   ],
   "source": [
    "# The \"size\" argument allows us to set the shape of our array of random numbers\n",
    "r_nums = np.random.random(size=(6,3))\n",
    "print(r_nums)"
   ]
  },
  {
   "cell_type": "markdown",
   "metadata": {
    "colab_type": "text",
    "id": "GWi5kznF8Ekf"
   },
   "source": [
    "If we want more control over the random of the random numbers were generate, we can use `np.random.uniform()`:"
   ]
  },
  {
   "cell_type": "code",
   "execution_count": 18,
   "metadata": {
    "colab": {},
    "colab_type": "code",
    "id": "d0vRmAwf8Ekg"
   },
   "outputs": [
    {
     "name": "stdout",
     "output_type": "stream",
     "text": [
      "[[ 0.90006963 -0.18055605  0.86625968]\n",
      " [-1.35388663  4.89106319 -0.07031104]\n",
      " [ 1.09411401  1.09258296  0.2643451 ]\n",
      " [-3.74805762  0.9704923  -3.94090023]\n",
      " [ 1.01391589 -3.68714001  3.34607567]\n",
      " [-0.43360661  4.29521492  1.22058613]]\n"
     ]
    }
   ],
   "source": [
    "r_nums = np.random.uniform(-5, 5, size=(6,3))\n",
    "print(r_nums)"
   ]
  },
  {
   "cell_type": "markdown",
   "metadata": {
    "colab_type": "text",
    "id": "3FKqwi4Q8Ekm"
   },
   "source": [
    "And, if we only want random integers, we can use `np.random.randint()`:"
   ]
  },
  {
   "cell_type": "code",
   "execution_count": 19,
   "metadata": {
    "colab": {},
    "colab_type": "code",
    "id": "oZM2XUyF8Eko"
   },
   "outputs": [
    {
     "name": "stdout",
     "output_type": "stream",
     "text": [
      "[[ 4 -4  4]\n",
      " [-5  1  1]\n",
      " [-4  0 -2]\n",
      " [ 1  0 -5]\n",
      " [ 1 -3 -1]\n",
      " [ 4  2  3]]\n"
     ]
    }
   ],
   "source": [
    "r_ints = np.random.randint(-5, 5, size=(6,3))\n",
    "print(r_ints)"
   ]
  },
  {
   "cell_type": "markdown",
   "metadata": {
    "colab_type": "text",
    "id": "zqqMGhFy8Ekv"
   },
   "source": [
    "#### What other sorts of random numbers can you generate?\n",
    "\n",
    "Refer to the [documentation page](https://docs.scipy.org/doc/numpy-1.15.1/reference/routines.random.html) for the NumPy `random` module and test your skills by generating random numbers from a `normal` distribution. Double-check that the random numbers that you generate match your expectations. Once you get that working, try out a couple of the other distributions."
   ]
  },
  {
   "cell_type": "code",
   "execution_count": 0,
   "metadata": {
    "colab": {},
    "colab_type": "code",
    "id": "W4yMqYDD8Ekx"
   },
   "outputs": [],
   "source": [
    "# Generate some random numbers from a normal distribution here\n"
   ]
  },
  {
   "cell_type": "markdown",
   "metadata": {
    "colab_type": "text",
    "id": "tYXhSuPg8Ek0"
   },
   "source": [
    "#### That's just the trip of the iceberg!\n",
    "\n",
    "**There are many other ways to generate arrays!** See [this page](http://docs.scipy.org/doc/numpy/reference/routines.array-creation.html) for a full list of routines for array creation."
   ]
  },
  {
   "cell_type": "markdown",
   "metadata": {
    "colab_type": "text",
    "id": "L0HKCpBV8Ek1"
   },
   "source": [
    "---\n",
    "# Indexing arrays\n",
    "\n",
    "Now that you know how to create arrays, it's really important that you understand how to access the values within those arrays. By indexing arrays, you can extract specific information from them or change values within the array."
   ]
  },
  {
   "cell_type": "markdown",
   "metadata": {
    "colab_type": "text",
    "id": "gH_n_ufS8Ek1"
   },
   "source": [
    "Let's return to one of our 1D arrays from above:"
   ]
  },
  {
   "cell_type": "code",
   "execution_count": 20,
   "metadata": {
    "colab": {},
    "colab_type": "code",
    "id": "qwitbAHG8Ek3"
   },
   "outputs": [
    {
     "name": "stdout",
     "output_type": "stream",
     "text": [
      "[  5.  10.  15.  20.  25.  30.  35.  40.  45.  50.  55.  60.  65.  70.\n",
      "  75.  80.  85.  90.  95. 100.]\n",
      "The array has 20 elements\n"
     ]
    }
   ],
   "source": [
    "ls_array = np.linspace(5,100,20)\n",
    "print(ls_array)\n",
    "print(\"The array has\", ls_array.size, \"elements\")"
   ]
  },
  {
   "cell_type": "markdown",
   "metadata": {
    "colab_type": "text",
    "id": "p7m2xpaT8Ek8"
   },
   "source": [
    "What we want to do now is print out specific elements form our array. **Remember** Python is a 0-based indexing system, which means that the first number in an array has index \"0\". Let's test that by using hard brackets ([]'s) to index the array:"
   ]
  },
  {
   "cell_type": "code",
   "execution_count": 21,
   "metadata": {
    "colab": {},
    "colab_type": "code",
    "id": "jo3-BPfu8Ek8"
   },
   "outputs": [
    {
     "name": "stdout",
     "output_type": "stream",
     "text": [
      "5.0\n"
     ]
    }
   ],
   "source": [
    "print(ls_array[0])"
   ]
  },
  {
   "cell_type": "markdown",
   "metadata": {
    "colab_type": "text",
    "id": "OT3kR04S8ElC"
   },
   "source": [
    "As we can see, we get the first element from our array, \"5\".\n",
    "\n",
    "**Try printing out the 4th, 7th, and 13th value from the array.** You should get: \n",
    "\n",
    "`20.0 25.0 65.0`"
   ]
  },
  {
   "cell_type": "code",
   "execution_count": 22,
   "metadata": {
    "colab": {},
    "colab_type": "code",
    "id": "F_no4FTf8ElD"
   },
   "outputs": [
    {
     "name": "stdout",
     "output_type": "stream",
     "text": [
      "20.0 35.0 65.0\n"
     ]
    }
   ],
   "source": [
    "print(ls_array[3],ls_array[6],ls_array[12])"
   ]
  },
  {
   "cell_type": "markdown",
   "metadata": {
    "colab_type": "text",
    "id": "sfeVwrKd8ElH"
   },
   "source": [
    "#### OK, great, but what if we have a 2D array?"
   ]
  },
  {
   "cell_type": "markdown",
   "metadata": {
    "colab_type": "text",
    "id": "BDUhktuZ8ElI"
   },
   "source": [
    "Let's generate another simple 2D array:"
   ]
  },
  {
   "cell_type": "code",
   "execution_count": 23,
   "metadata": {
    "colab": {},
    "colab_type": "code",
    "id": "P76L3HrP8ElJ"
   },
   "outputs": [
    {
     "name": "stdout",
     "output_type": "stream",
     "text": [
      "[[1 2 3]\n",
      " [4 5 6]\n",
      " [7 8 9]]\n"
     ]
    }
   ],
   "source": [
    "b = np.array([[1,2,3],\n",
    "              [4,5,6],\n",
    "              [7,8,9]])\n",
    "print(b)"
   ]
  },
  {
   "cell_type": "markdown",
   "metadata": {
    "colab_type": "text",
    "id": "M-8J6gw58ElO"
   },
   "source": [
    "You can access or manipulate individual cells of an array by doing:\n",
    "\n",
    "`b[index_1,index_2]`\n",
    "\n",
    "Note that when you print it, the first index corresponds to rows (counting down from the top) and the second index corresponds to columns (counting from the left).  Indices in both directions count by zeros."
   ]
  },
  {
   "cell_type": "code",
   "execution_count": 24,
   "metadata": {
    "colab": {},
    "colab_type": "code",
    "id": "Feg7_7EB8ElP"
   },
   "outputs": [
    {
     "name": "stdout",
     "output_type": "stream",
     "text": [
      "[[1 2 3]\n",
      " [4 5 6]\n",
      " [7 8 9]]\n",
      "6\n"
     ]
    }
   ],
   "source": [
    "# print entire array\n",
    "print(b)\n",
    "\n",
    "# print a single element of the array\n",
    "# specifically, the value in second row and the third column\n",
    "print(b[1,2])"
   ]
  },
  {
   "cell_type": "markdown",
   "metadata": {
    "colab_type": "text",
    "id": "cCaIrsJK8ElT"
   },
   "source": [
    "As we would expect, we get the number \"6\" when we print the value of the array in the **second row** (index \"1\") and the **third column** (index 2)."
   ]
  },
  {
   "cell_type": "markdown",
   "metadata": {
    "colab_type": "text",
    "id": "pk9uyi6i8ElV"
   },
   "source": [
    "We can also us this notation to change the values of array at that location. This would look like the following:"
   ]
  },
  {
   "cell_type": "code",
   "execution_count": 25,
   "metadata": {
    "colab": {},
    "colab_type": "code",
    "id": "hc_A6nO08ElZ"
   },
   "outputs": [
    {
     "name": "stdout",
     "output_type": "stream",
     "text": [
      "[[ 1  2  3]\n",
      " [ 4  5 11]\n",
      " [ 7  8  9]]\n"
     ]
    }
   ],
   "source": [
    "b[1,2] = 11\n",
    "print(b)"
   ]
  },
  {
   "cell_type": "markdown",
   "metadata": {
    "colab_type": "text",
    "id": "y0LPTeBs8Elm"
   },
   "source": [
    "We now see that where there was originally a \"6\" in the array, there is now an \"11\"."
   ]
  },
  {
   "cell_type": "markdown",
   "metadata": {
    "colab_type": "text",
    "id": "a-w8FJre8Eln"
   },
   "source": [
    "**Test out your array indexing skills!**\n",
    "\n",
    "Change the \"7\" in the array to \"25\" and change the \"2\" to \"42\"."
   ]
  },
  {
   "cell_type": "code",
   "execution_count": 0,
   "metadata": {
    "colab": {},
    "colab_type": "code",
    "id": "ve-GqSFX8Elo"
   },
   "outputs": [],
   "source": [
    "# Using array indexing, change the values and print the modified array\n"
   ]
  },
  {
   "cell_type": "markdown",
   "metadata": {
    "colab_type": "text",
    "id": "6906ov_l8Elu"
   },
   "source": [
    "---\n",
    "# Slicing arrays \n",
    "\n",
    "## Slicing 1D arrays\n",
    "\n",
    "When working with array, you can also use the same type of slicing that you use with lists - in other words, python allows you to select some subset of the elements in a list or an array to manipulate or copy.  With slicing, there are three values that can be used along each dimension: ```start```,```end```, and ```step```, separated by colons.  Here are some examples in 1D:\n",
    "\n",
    "```\n",
    "myarray[start:end]       # items start through end-1\n",
    "myarray[start:]          # items start through the end of the array\n",
    "myarray[:end]            # items from the beginning of the array through end-1\n",
    "myarray[:]               # the whole array\n",
    "myarray[start:end:step]  # select an element every \"step\" from start to end-1\n",
    "myarray[::step]          # select an element every \"step\" over the whole array, starting with the first element.\n",
    "```"
   ]
  },
  {
   "cell_type": "markdown",
   "metadata": {
    "colab_type": "text",
    "id": "CU8SdJIz8Elx"
   },
   "source": [
    "Let's test these out with our `np.linspace()` array from before. Read through the output and make sure you understand the results."
   ]
  },
  {
   "cell_type": "code",
   "execution_count": 26,
   "metadata": {
    "colab": {},
    "colab_type": "code",
    "id": "3Qe6fo3D8Elz"
   },
   "outputs": [
    {
     "name": "stdout",
     "output_type": "stream",
     "text": [
      "[  5.  10.  15.  20.  25.  30.  35.  40.  45.  50.  55.  60.  65.  70.\n",
      "  75.  80.  85.  90.  95. 100.]\n",
      "The array has 20 elements\n",
      "\n",
      "ls_array[4:10] -> [25. 30. 35. 40. 45. 50.]\n",
      "\n",
      "ls_array[15:] -> [ 80.  85.  90.  95. 100.]\n",
      "\n",
      "ls_array[:10] -> [ 5. 10. 15. 20. 25. 30. 35. 40. 45. 50.]\n",
      "\n",
      "ls_array[:] -> [  5.  10.  15.  20.  25.  30.  35.  40.  45.  50.  55.  60.  65.  70.\n",
      "  75.  80.  85.  90.  95. 100.]\n",
      "\n",
      "ls_array[5:15:2] -> [30. 40. 50. 60. 70.]\n",
      "\n",
      "ls_array[::3] -> [ 5. 20. 35. 50. 65. 80. 95.]\n"
     ]
    }
   ],
   "source": [
    "ls_array = np.linspace(5,100,20)\n",
    "print(ls_array)\n",
    "print(\"The array has\", ls_array.size, \"elements\")\n",
    "\n",
    "# note: the '\\n' at the beginning of many of the print statements \n",
    "# adds a carriage return (blank line)\n",
    "print(\"\\nls_array[4:10] ->\",ls_array[4:10])\n",
    "print(\"\\nls_array[15:] ->\",ls_array[15:])\n",
    "print(\"\\nls_array[:10] ->\",ls_array[:10])\n",
    "print(\"\\nls_array[:] ->\",ls_array[:])\n",
    "print(\"\\nls_array[5:15:2] ->\",ls_array[5:15:2])\n",
    "print(\"\\nls_array[::3] ->\",ls_array[::3])"
   ]
  },
  {
   "cell_type": "markdown",
   "metadata": {
    "colab_type": "text",
    "id": "uzni367X8El7"
   },
   "source": [
    "**Try some of you own slicing ranges in the cell below.**"
   ]
  },
  {
   "cell_type": "code",
   "execution_count": 0,
   "metadata": {
    "colab": {},
    "colab_type": "code",
    "id": "etGI5CoN8El-"
   },
   "outputs": [],
   "source": [
    "# Test out your new array slicing skills here\n"
   ]
  },
  {
   "cell_type": "markdown",
   "metadata": {
    "colab_type": "text",
    "id": "EJVvyzZ48EmF"
   },
   "source": [
    "Note that negative indices count from the end of the array, so ```myarray[-1]``` is the last element in the array, ```myarray[-2]``` is the second-to-last element, etc.  You can also reverse the order of the array by starting at the end and counting to the beginning by negative numbers -- in other words, ```myarray[-1::-1]``` starts at the end of the array and goes to the first element by counting down by one each time.\n",
    "\n",
    "Convince yourself how this works by trying this out with the `ls_array` in the cell below."
   ]
  },
  {
   "cell_type": "code",
   "execution_count": 0,
   "metadata": {
    "colab": {},
    "colab_type": "code",
    "id": "Uuulduzh8EmF"
   },
   "outputs": [],
   "source": [
    "# Test negative indexing here.\n"
   ]
  },
  {
   "cell_type": "markdown",
   "metadata": {
    "colab_type": "text",
    "id": "W4rlH1VE8EmO"
   },
   "source": [
    "## Slicing multi-dimensional arrays\n",
    "\n",
    "The same sort of technique can be used with a multi-dimensional array, with ```start```, ```stop```, and (optionally) ```step``` specified along each dimension, with the dimensions separated by a comma.  For a 2D array, the syntax would be:\n",
    "\n",
    "```\n",
    "my2Darray[start1:stop1:step1, start2:stop2:step2]\n",
    "```\n",
    "\n",
    "With the same rules as above.  You can also combine slicing with fixed indices to get some or all elements from a single row or column of your array.\n",
    "\n",
    "We're going to grab our 2D \"`b`\" array from before, which is a 3x3 array with the values 1-9 stored in it.  We can do several different things to slice this array, including some more negative indexing:\n",
    "\n",
    "```\n",
    "b[0,:]            # get the first row\n",
    "b[:,2]            # get the third column\n",
    "b[1,::2]          # get every other element of the first row, starting at element 0\n",
    "b[:2,:2]          # get a square array containing the first two elements along each dimension\n",
    "b[-2:,-2:]        # get a square array containing the last two elements along each dimension\n",
    "b[::2,::2]        # get a square array of every other element along each dimension\n",
    "b[-1::-1,-1::-1]  # original sized array, but reversed along both dimensions\n",
    "```"
   ]
  },
  {
   "cell_type": "code",
   "execution_count": 28,
   "metadata": {
    "colab": {},
    "colab_type": "code",
    "id": "8HzRkeUD8EmQ"
   },
   "outputs": [
    {
     "name": "stdout",
     "output_type": "stream",
     "text": [
      "the array b:\n",
      " [[1 2 3]\n",
      " [4 5 6]\n",
      " [7 8 9]] \n",
      "\n",
      "the first row: [1 2 3]\n",
      "\n",
      "the third column: [3 6 9]\n",
      "\n",
      "every other element of the second row, starting with element 0: [4 6]\n",
      "\n",
      "square array of first two elements along each dimension:\n",
      " [[1 2]\n",
      " [4 5]]\n",
      "\n",
      "square array of last two elements along each dimension:\n",
      " [[5 6]\n",
      " [8 9]]\n",
      "\n",
      "square array of every other element along each dimension:\n",
      " [[1 3]\n",
      " [7 9]]\n",
      "\n",
      "reversed array:\n",
      " [[9 8 7]\n",
      " [6 5 4]\n",
      " [3 2 1]]\n"
     ]
    }
   ],
   "source": [
    "b = np.array([[1,2,3],\n",
    "              [4,5,6],\n",
    "              [7,8,9]])\n",
    "\n",
    "print(\"the array b:\\n\",b,\"\\n\")\n",
    "\n",
    "print(\"the first row:\", b[0,:])\n",
    "\n",
    "print(\"\\nthe third column:\",b[:,2])\n",
    "\n",
    "print(\"\\nevery other element of the second row, starting with element 0:\",b[1,::2])\n",
    "\n",
    "print(\"\\nsquare array of first two elements along each dimension:\\n\",b[:2,:2])\n",
    "\n",
    "print(\"\\nsquare array of last two elements along each dimension:\\n\",b[-2:,-2:])\n",
    "\n",
    "print(\"\\nsquare array of every other element along each dimension:\\n\",b[::2,::2])\n",
    "\n",
    "print(\"\\nreversed array:\\n\",b[-1::-1,-1::-1])"
   ]
  },
  {
   "cell_type": "markdown",
   "metadata": {
    "colab_type": "text",
    "id": "GM1Y2PCC3fqt"
   },
   "source": [
    "**Try doing the following on your own:**\n",
    "\n",
    "1. Print the 2nd column of `b`\n",
    "1. Print the 3rd row of `b`\n",
    "1. Change the middle row of `b` to be `[10,11,12]` and then print `b`"
   ]
  },
  {
   "cell_type": "code",
   "execution_count": 29,
   "metadata": {
    "colab": {},
    "colab_type": "code",
    "id": "wNhVPRwu3fqv"
   },
   "outputs": [
    {
     "name": "stdout",
     "output_type": "stream",
     "text": [
      "[2 5 8]\n",
      "[7 8 9]\n",
      "[[ 1  2  3]\n",
      " [10 11 12]\n",
      " [ 7  8  9]]\n"
     ]
    }
   ],
   "source": [
    "# Test things out here!\n",
    "print(b[:,1])\n",
    "print(b[2,:])\n",
    "b[1,:] = [10,11,12]\n",
    "print(b)"
   ]
  },
  {
   "cell_type": "markdown",
   "metadata": {
    "colab_type": "text",
    "id": "okFDCXIZ17vS"
   },
   "source": [
    "---\n",
    "## Masking arrays\n",
    "\n",
    "Sometimes, we want to be able to access specific values in an array in order to carry out calculations or changes values in the array. We can use this by creating Boolean (True/False) masks of the arrays.\n",
    "\n",
    "Let's revisit our simple `b` array from previously and create a mask for all values that are greater than 5:"
   ]
  },
  {
   "cell_type": "code",
   "execution_count": 30,
   "metadata": {
    "colab": {},
    "colab_type": "code",
    "id": "WS0KNTHY1z3t"
   },
   "outputs": [
    {
     "name": "stdout",
     "output_type": "stream",
     "text": [
      "[[1 2 3]\n",
      " [4 5 6]\n",
      " [7 8 9]]\n",
      "[[False False False]\n",
      " [False False  True]\n",
      " [ True  True  True]]\n"
     ]
    }
   ],
   "source": [
    "b = np.array([[1,2,3],\n",
    "              [4,5,6],\n",
    "              [7,8,9]])\n",
    "print(b)\n",
    "\n",
    "mask = b > 5\n",
    "print(mask)"
   ]
  },
  {
   "cell_type": "markdown",
   "metadata": {
    "colab_type": "text",
    "id": "xEz4ayTv25Qa"
   },
   "source": [
    "As we can see, our mask has the exact same shape as our original array, but the values are replaced by `True` and `False` values. If we inspect the \"mask\" array, we see that the locations of the values 6, 7, 8, and 9 are all `True`, which makes sense given our conditional statement, `b > 5`.\n",
    "\n",
    "We can actually use this mask to extract the numbers where the mask is `True` by using the `mask` array to index our original `b` array. Or, if we want, we can change all of these values to something else. Check this out in the cell below."
   ]
  },
  {
   "cell_type": "code",
   "execution_count": 31,
   "metadata": {
    "colab": {},
    "colab_type": "code",
    "id": "GZsnqrKi4Osw"
   },
   "outputs": [
    {
     "name": "stdout",
     "output_type": "stream",
     "text": [
      "[6 7 8 9]\n",
      "\n",
      "New b:\n",
      "[[ 1  2  3]\n",
      " [ 4  5 15]\n",
      " [15 15 15]]\n"
     ]
    }
   ],
   "source": [
    "print(b[mask])\n",
    "\n",
    "b[mask] = 15\n",
    "print(\"\\nNew b:\")\n",
    "print(b)"
   ]
  },
  {
   "cell_type": "markdown",
   "metadata": {
    "colab_type": "text",
    "id": "dLNPX9Od6Z4x"
   },
   "source": [
    "**Try creating your own mask in the cell below to select the elements that are less than 4.**"
   ]
  },
  {
   "cell_type": "code",
   "execution_count": 32,
   "metadata": {
    "colab": {},
    "colab_type": "code",
    "id": "G559r2He6zhh"
   },
   "outputs": [
    {
     "name": "stdout",
     "output_type": "stream",
     "text": [
      "[1 2 3]\n"
     ]
    }
   ],
   "source": [
    "# Here's original b array again\n",
    "b = np.array([[1,2,3],\n",
    "              [4,5,6],\n",
    "              [7,8,9]])\n",
    "\n",
    "# Create and test your mask here\n",
    "mask = b<4\n",
    "print(b[mask])"
   ]
  },
  {
   "cell_type": "markdown",
   "metadata": {
    "colab_type": "text",
    "id": "rnNHxNEJ6Saf"
   },
   "source": [
    "NumPy also has an `np.where()` function that returns the locations that meet the conditional state. Look at the following example:"
   ]
  },
  {
   "cell_type": "code",
   "execution_count": 33,
   "metadata": {
    "colab": {},
    "colab_type": "code",
    "id": "nvaZ3QEX7Xg2"
   },
   "outputs": [
    {
     "name": "stdout",
     "output_type": "stream",
     "text": [
      "(array([1, 2, 2, 2], dtype=int64), array([2, 0, 1, 2], dtype=int64))\n"
     ]
    }
   ],
   "source": [
    "b = np.array([[1,2,3],\n",
    "              [4,5,6],\n",
    "              [7,8,9]])\n",
    "\n",
    "loc = np.where(b > 5)\n",
    "print(loc)"
   ]
  },
  {
   "cell_type": "markdown",
   "metadata": {
    "colab_type": "text",
    "id": "IhuzGc_K7hUK"
   },
   "source": [
    "The format of this is a little weird, but basically it provides the row and column indicies for all of the locations where the conditional statement is true. We can use these location to index our array just as we could using our boolean mask. Like so:"
   ]
  },
  {
   "cell_type": "code",
   "execution_count": 34,
   "metadata": {
    "colab": {},
    "colab_type": "code",
    "id": "W8_u5YpS7vER"
   },
   "outputs": [
    {
     "name": "stdout",
     "output_type": "stream",
     "text": [
      "[6 7 8 9]\n"
     ]
    }
   ],
   "source": [
    "print(b[loc])"
   ]
  },
  {
   "cell_type": "markdown",
   "metadata": {
    "colab_type": "text",
    "id": "jiCqx2mW78Rp"
   },
   "source": [
    "**Come up with your own conditional statement and test out `np.where()` in the cell below.**"
   ]
  },
  {
   "cell_type": "code",
   "execution_count": 0,
   "metadata": {
    "colab": {},
    "colab_type": "code",
    "id": "7LmcyYPX8FDt"
   },
   "outputs": [],
   "source": [
    "# Test out np.where() here\n"
   ]
  },
  {
   "cell_type": "markdown",
   "metadata": {
    "colab_type": "text",
    "id": "u9XQTxr38EmT"
   },
   "source": [
    "---\n",
    "# Copying arrays\n",
    "\n",
    "So far, we've only shown you how to create arrays and manipulate subsets of arrays.  But what about copying arrays?  What happens when you create an array c, and set d=c? Test it out below."
   ]
  },
  {
   "cell_type": "code",
   "execution_count": 35,
   "metadata": {
    "colab": {},
    "colab_type": "code",
    "id": "ZbL38uv98EmU"
   },
   "outputs": [
    {
     "name": "stdout",
     "output_type": "stream",
     "text": [
      "c:\n",
      " [[10. 10. 10. 10.]\n",
      " [10. 10. 10. 10.]\n",
      " [10. 10. 10. 10.]\n",
      " [10. 10. 10. 10.]] \n",
      "d:\n",
      " [[10. 10. 10. 10.]\n",
      " [10. 10. 10. 10.]\n",
      " [10. 10. 10. 10.]\n",
      " [10. 10. 10. 10.]]\n"
     ]
    }
   ],
   "source": [
    "c = np.full((4,4),10.0)  # You it might not have used \"full\" yet, this makes an array of shape (4,4) where all elements are value 10.0\n",
    "\n",
    "d = c\n",
    "\n",
    "print(\"c:\\n\",c, \"\\nd:\\n\", d)"
   ]
  },
  {
   "cell_type": "markdown",
   "metadata": {
    "colab_type": "text",
    "id": "ZJDuFubW8EmZ"
   },
   "source": [
    "The two arrays are the same, which is what you would expect.  **But, what happens if we make changes to array d?**"
   ]
  },
  {
   "cell_type": "code",
   "execution_count": 36,
   "metadata": {
    "colab": {},
    "colab_type": "code",
    "id": "plJYAtJ08Ema"
   },
   "outputs": [
    {
     "name": "stdout",
     "output_type": "stream",
     "text": [
      "c:\n",
      " [[-1. 10. -6. 10.]\n",
      " [-1. 10. -6. 10.]\n",
      " [-1. 10. -6. 10.]\n",
      " [-1. 10. -6. 10.]] \n",
      "d:\n",
      " [[-1. 10. -6. 10.]\n",
      " [-1. 10. -6. 10.]\n",
      " [-1. 10. -6. 10.]\n",
      " [-1. 10. -6. 10.]]\n"
     ]
    }
   ],
   "source": [
    "d[:,0] = -1.0  # make column 0 equal to -1\n",
    "d[:,2] = -6.0  # make column 2 equal to -6\n",
    "\n",
    "print(\"c:\\n\",c, \"\\nd:\\n\", d)"
   ]
  },
  {
   "cell_type": "markdown",
   "metadata": {
    "colab_type": "text",
    "id": "_g3r9e4U8Emu"
   },
   "source": [
    "Arrays ```c``` and ```d``` are identical, even though you only changed ```d```!\n",
    "\n",
    "So what's going on here?  When you equate arrays in Numpy (i.e., ```d = c```), you create a **reference**, rather than copying the array -- in other words, the array ```d``` is not a distinct array, but rather *points to* the array ```c``` in memory.  Any modification to either ```c``` or ```d``` will be seen by both.  To actually make a copy, you have to use the ```np.copy()``` method:"
   ]
  },
  {
   "cell_type": "code",
   "execution_count": 37,
   "metadata": {
    "colab": {},
    "colab_type": "code",
    "id": "P-47WIs18Emv"
   },
   "outputs": [
    {
     "name": "stdout",
     "output_type": "stream",
     "text": [
      "e:\n",
      " [[10. 10. 10. 10.]\n",
      " [10. 10. 10. 10.]\n",
      " [10. 10. 10. 10.]\n",
      " [10. 10. 10. 10.]] \n",
      "f:\n",
      " [[-1. 10. -6. 10.]\n",
      " [-1. 10. -6. 10.]\n",
      " [-1. 10. -6. 10.]\n",
      " [-1. 10. -6. 10.]]\n"
     ]
    }
   ],
   "source": [
    "e = np.full((4,4),10.0)  # makes an array of shape (4,4) where all elements are value 10.0\n",
    "\n",
    "f = np.copy(e)\n",
    "\n",
    "f[:,0] = -1.0  # make column 0 equal to -1\n",
    "f[:,2] = -6.0  # make column 2 equal to -6\n",
    "\n",
    "print(\"e:\\n\",e, \"\\nf:\\n\", f)"
   ]
  },
  {
   "cell_type": "markdown",
   "metadata": {
    "colab_type": "text",
    "id": "eQvgQGZU8Em0"
   },
   "source": [
    "You can also make a copy of a subset of an arrays:"
   ]
  },
  {
   "cell_type": "code",
   "execution_count": 38,
   "metadata": {
    "colab": {},
    "colab_type": "code",
    "id": "n7f-msHE8Em3"
   },
   "outputs": [
    {
     "name": "stdout",
     "output_type": "stream",
     "text": [
      "g:\n",
      " [[10. 10. 10. 10.]\n",
      " [10. 10. 10. 10.]\n",
      " [10. 10. 10. 10.]\n",
      " [10. 10. 10. 10.]] \n",
      "h:\n",
      " [[10. 10.]\n",
      " [10. 10.]]\n"
     ]
    }
   ],
   "source": [
    "g = np.full((4,4),10.0)  # makes an array of shape (4,4) where all elements are value 10.0\n",
    "\n",
    "h = np.copy(g[0:2,0:2])\n",
    "\n",
    "print(\"g:\\n\",g, \"\\nh:\\n\", h)"
   ]
  },
  {
   "cell_type": "markdown",
   "metadata": {
    "colab_type": "text",
    "id": "qniwbzl58Em5"
   },
   "source": [
    "Note that you can also create an array that references a subset of another array rather than copies it, and manipulate that in any way you want.  The changes will then appear in both the new array and your original array.  For example:"
   ]
  },
  {
   "cell_type": "code",
   "execution_count": 39,
   "metadata": {
    "colab": {},
    "colab_type": "code",
    "id": "pCTjffPt8Em6"
   },
   "outputs": [
    {
     "name": "stdout",
     "output_type": "stream",
     "text": [
      "\n",
      "unmodified arrays:\n",
      "\n",
      "i:\n",
      " [[10. 10. 10. 10.]\n",
      " [10. 10. 10. 10.]\n",
      " [10. 10. 10. 10.]\n",
      " [10. 10. 10. 10.]] \n",
      "j:\n",
      " [[10. 10.]\n",
      " [10. 10.]]\n",
      "\n",
      "arrays after modification:\n",
      "\n",
      "i:\n",
      " [[  10.   10.   10.   10.]\n",
      " [  10. -999.   10.   10.]\n",
      " [  10.   10.   10.   10.]\n",
      " [  10.   10.   10.   10.]] \n",
      "j:\n",
      " [[  10.   10.]\n",
      " [  10. -999.]]\n"
     ]
    }
   ],
   "source": [
    "i = np.full((4,4),10.0)  # makes an array of shape (4,4) where all elements are value 10.0\n",
    "\n",
    "j = i[0:2,0:2]\n",
    "\n",
    "print(\"\\nunmodified arrays:\\n\")\n",
    "\n",
    "print(\"i:\\n\",i, \"\\nj:\\n\", j)\n",
    "\n",
    "print(\"\\narrays after modification:\\n\")\n",
    "\n",
    "j[1,1]=-999.0\n",
    "\n",
    "print(\"i:\\n\",i, \"\\nj:\\n\", j)\n"
   ]
  },
  {
   "cell_type": "markdown",
   "metadata": {
    "colab_type": "text",
    "id": "QkoN9Tl53frh"
   },
   "source": [
    "To make sure you've got a handle on this, try the following:\n",
    "\n",
    "1. Using the `k` array below, create a new array, `l`, that **references** the middle 4 values of the `k` array. Then, change all of the values in `l` to be `5`. Print both arrays and make sure the results match your expectations.\n",
    "1. Using the `k` array below, create a new array, `m`, that is a **copy** of the last column of the `k` array. Then, change all of the values in `m` to be `5`. Print both arrays and make sure the results match your expectations."
   ]
  },
  {
   "cell_type": "code",
   "execution_count": 47,
   "metadata": {
    "colab": {},
    "colab_type": "code",
    "id": "NPLrXwjO3fri"
   },
   "outputs": [
    {
     "name": "stdout",
     "output_type": "stream",
     "text": [
      "original k:\n",
      " [[10. 10. 10. 10.]\n",
      " [10. 10. 10. 10.]\n",
      " [10. 10. 10. 10.]\n",
      " [10. 10. 10. 10.]]\n",
      "[[5. 5.]\n",
      " [5. 5.]]\n",
      "new k\n",
      " [[10. 10. 10. 10.]\n",
      " [10.  5.  5. 10.]\n",
      " [10.  5.  5. 10.]\n",
      " [10. 10. 10. 10.]]\n",
      "[5. 5. 5. 5.] [[10. 10. 10. 10.]\n",
      " [10.  5.  5. 10.]\n",
      " [10.  5.  5. 10.]\n",
      " [10. 10. 10. 10.]]\n"
     ]
    }
   ],
   "source": [
    "k = np.full((4,4),10.0)\n",
    "print(\"original k:\\n\",k)\n",
    "\n",
    "# Test you ability to reference and copy arrays here!\n",
    "l = k[1:3,1:3]\n",
    "l[:] = 5\n",
    "print(l)\n",
    "print(\"new k\\n\",k)\n",
    "\n",
    "m = np.copy(k[:,3])\n",
    "m[:] = 5\n",
    "print(m,k)"
   ]
  },
  {
   "cell_type": "markdown",
   "metadata": {
    "colab_type": "text",
    "id": "ErmuWky73frm"
   },
   "source": [
    "---\n",
    "# Calculating simple array statistics using NumPy\n",
    "\n",
    "Once you've become comfortable creating and manipulating arrays with NumPy, it can be useful to have ways of computing some simple statistics for your array data. NumPy has a lot of built in functions for doing this. We'll look at just a few.\n",
    "\n"
   ]
  },
  {
   "cell_type": "markdown",
   "metadata": {
    "colab_type": "text",
    "id": "ysl-0kEn3frm"
   },
   "source": [
    "## Minimum and maximum\n",
    "\n",
    "Finding the min and max values of an array can be very useful. This is where `np.min()` and `np.max()` come in handy:"
   ]
  },
  {
   "cell_type": "code",
   "execution_count": 50,
   "metadata": {
    "colab": {},
    "colab_type": "code",
    "id": "7tcIZdjx3frn"
   },
   "outputs": [
    {
     "name": "stdout",
     "output_type": "stream",
     "text": [
      "[[ 8.77981394 -8.76506     0.62009279  5.04258826 -9.57047935]\n",
      " [-8.83729919  6.89380723  7.26207477  7.48661874 -0.37198431]\n",
      " [-3.46901789  6.22699129 -6.31094457  8.97541092  3.91817263]\n",
      " [ 0.16833381 -4.36200568  8.61028237  8.67856472 -3.44821934]\n",
      " [ 2.39682362 -0.92938935  7.32729554  6.1466773   3.14714744]]\n",
      "\n",
      "Maximum value: 8.9754109185656\n",
      "\n",
      "Minimum value: -9.570479353136538\n"
     ]
    }
   ],
   "source": [
    "# Try running this cell a few times to see how the random numbers and the results change!\n",
    "my_array = np.random.uniform(-10,10,[5,5])\n",
    "print(my_array)\n",
    "\n",
    "print(\"\\nMaximum value:\",np.max(my_array))\n",
    "print(\"\\nMinimum value:\",np.min(my_array))"
   ]
  },
  {
   "cell_type": "markdown",
   "metadata": {
    "colab_type": "text",
    "id": "GbaQQe4U3frs"
   },
   "source": [
    "As we would expect for an array of random numbers pulled from a uniform distribution from -10 to 10, the maximum value is often close to 10, and the minimum value is often close to -10."
   ]
  },
  {
   "cell_type": "markdown",
   "metadata": {
    "colab_type": "text",
    "id": "nlobgTof3fru"
   },
   "source": [
    "**With your combined skills of slicing and finding the maximum and minimum, do the following:**\n",
    "\n",
    "1. Find the maximum value in row 2.\n",
    "1. Find the minumum value in column 4.\n",
    "\n",
    "Make sure your values are right by comparing to the values in the original array!"
   ]
  },
  {
   "cell_type": "code",
   "execution_count": 52,
   "metadata": {
    "colab": {},
    "colab_type": "code",
    "id": "XNMFhNY53fr_"
   },
   "outputs": [
    {
     "data": {
      "text/plain": [
       "7.48661874414195"
      ]
     },
     "execution_count": 52,
     "metadata": {},
     "output_type": "execute_result"
    }
   ],
   "source": [
    "# Put your code here!\n",
    "np.max(my_array[1,:])\n",
    "#np.min(my_array[:,3])"
   ]
  },
  {
   "cell_type": "markdown",
   "metadata": {
    "colab_type": "text",
    "id": "bDXIB5kr3fsE"
   },
   "source": [
    "## Calculating the mean, median, standard deviation, and variance\n",
    "\n",
    "Perhaps not surprisingly, NumPy has functions for the mean, median, standard deviation, and variance. There are as follows:\n",
    "\n",
    "* `np.mean()`\n",
    "* `np.median()`\n",
    "* `np.std()`\n",
    "* `np.var()`\n",
    "\n",
    "We're going to generate some values from a normal distribution and then test to see if these simple statistics make sense for the distribution."
   ]
  },
  {
   "cell_type": "code",
   "execution_count": 57,
   "metadata": {
    "colab": {},
    "colab_type": "code",
    "id": "yCKUB6aU3fsE"
   },
   "outputs": [
    {
     "name": "stdout",
     "output_type": "stream",
     "text": [
      "[ 0.63461973  2.22196952 -5.36113198 -1.05169621 -5.15840005 -3.0221758\n",
      " -3.42728105 10.67336284  4.04630034  9.77868704  2.26252225 -1.29892138\n",
      "  5.26716612 -2.99058448  1.08771716  5.14800888  2.69100263 -2.58298447\n",
      " -0.83203703  1.12291568 -5.51020477 -1.32705939  0.64831883 -1.63302987\n",
      " -1.56804811  2.25721914 -7.44402261  4.35485642 -0.44938853 -9.0574932\n",
      "  7.44919666  7.57676439 -4.94878272 -6.6831165  -0.30592945  3.91002086\n",
      "  2.58625602  1.44137691  2.5538517  -8.48668047 -2.35412231  6.54022442\n",
      "  0.9572751  -2.19897995  0.54246939 -5.28858732  2.78794802 -6.7488132\n",
      "  4.01580924  7.3557139  -0.10712073  3.08949097  0.15707933  3.14612048\n",
      " -1.63614084  3.26018017  9.91186203  8.81508966 -6.5549979   2.0437625\n",
      " -1.06013552  5.15721697 -4.03185717 -3.35939583 -2.16993117 -4.31330188\n",
      " -5.43795686  4.9441928  -1.44581765  1.70211803  0.302641    2.5909005\n",
      " -0.30988556 -0.96258295  4.53656864 -6.67735883  1.54856073  0.68294545\n",
      " -4.49402913  0.58889218  3.14950209  2.80681703  4.05002049 -2.168447\n",
      " -7.72344739 -0.43752461  3.93288333  1.71011535 -7.88857178 13.70839193\n",
      " -5.74902314  3.88988996  2.10853873 -0.4251699  -1.59595371  4.95348183\n",
      "  8.05739063  8.12125738  1.40814174  0.02067365]\n",
      "\n",
      "Mean value: 0.5202817833988266\n",
      "\n",
      "Median value: 0.6117559505979481\n",
      "\n",
      "Standard Deviation value: 4.613548724742534\n",
      "\n",
      "Variance value: 21.28483183557346\n"
     ]
    }
   ],
   "source": [
    "# Try running this a few times to see how the results change!\n",
    "my_array = np.random.normal(0.0,5.0,size=100)\n",
    "print(my_array)\n",
    "\n",
    "print(\"\\nMean value:\",np.mean(my_array))\n",
    "print(\"\\nMedian value:\",np.median(my_array))\n",
    "print(\"\\nStandard Deviation value:\",np.std(my_array))\n",
    "print(\"\\nVariance value:\",np.var(my_array))"
   ]
  },
  {
   "cell_type": "markdown",
   "metadata": {
    "colab_type": "text",
    "id": "zPSdpMrw3fsI"
   },
   "source": [
    "As we might have hoped, out mean is quite often near 0 and our standard deviation is very close to the standard deviation that we put into the `np.random.normal()` function!"
   ]
  },
  {
   "cell_type": "markdown",
   "metadata": {
    "colab_type": "text",
    "id": "q35aWDzD3fsJ"
   },
   "source": [
    "Using your 1D array slicing skills, **do the following**:\n",
    "\n",
    "1. Find the mean of the first 25 values in the array\n",
    "2. Find the median of the last 25 values of the array\n",
    "3. Find the standard deviation of the middle 40 values of the array"
   ]
  },
  {
   "cell_type": "code",
   "execution_count": 59,
   "metadata": {
    "colab": {},
    "colab_type": "code",
    "id": "8Lxvqp653fsQ"
   },
   "outputs": [
    {
     "name": "stdout",
     "output_type": "stream",
     "text": [
      "[ 0.63461973  2.22196952 -5.36113198 -1.05169621 -5.15840005 -3.0221758\n",
      " -3.42728105 10.67336284  4.04630034  9.77868704  2.26252225 -1.29892138\n",
      "  5.26716612 -2.99058448  1.08771716  5.14800888  2.69100263 -2.58298447\n",
      " -0.83203703  1.12291568 -5.51020477 -1.32705939  0.64831883 -1.63302987\n",
      " -1.56804811]\n"
     ]
    }
   ],
   "source": [
    "# Put your code here!\n",
    "print(my_array[0:25])"
   ]
  },
  {
   "cell_type": "markdown",
   "metadata": {
    "colab_type": "text",
    "id": "zA29433d8EnC"
   },
   "source": [
    "---\n",
    "# Plotting NumPy arrays\n",
    "\n",
    "Looking at 2D arrays as just a bunch of numbers can be fine for some situations, but for large arrays it can be easier to visualize the results in other ways.\n",
    "\n",
    "It's actually easy to plot 2D Numpy arrays in using `matplotlib` using the `pyplot` [```matshow```](http://matplotlib.org/api/pyplot_api.html#matplotlib.pyplot.matshow) method. Don't worry too much if you've never seen matplotlib before, we've just include a few simple examples to show you the types of things you can do with it!"
   ]
  },
  {
   "cell_type": "code",
   "execution_count": 61,
   "metadata": {
    "colab": {},
    "colab_type": "code",
    "id": "ok0BetdN8EnE"
   },
   "outputs": [
    {
     "data": {
      "text/plain": [
       "<matplotlib.image.AxesImage at 0x230df7f9a00>"
      ]
     },
     "execution_count": 61,
     "metadata": {},
     "output_type": "execute_result"
    },
    {
     "data": {
      "image/png": "[encoded data removed]",
      "text/plain": [
       "<Figure size 288x288 with 1 Axes>"
      ]
     },
     "metadata": {
      "needs_background": "light"
     },
     "output_type": "display_data"
    }
   ],
   "source": [
    "# We need these two lines to import matplotlib and make sure the plots show up.\n",
    "import matplotlib.pyplot as plt\n",
    "%matplotlib inline\n",
    "\n",
    "new_rand_array = np.random.random(size=(100,100))\n",
    "\n",
    "plt.matshow(new_rand_array)\n",
    "\n",
    "# uncomment the following line to save the figure to your hard drive!\n",
    "#plt.savefig(\"myimage.png\")"
   ]
  },
  {
   "cell_type": "markdown",
   "metadata": {
    "colab_type": "text",
    "id": "uE9tEF-v8EnK"
   },
   "source": [
    "And you can turn off the array axes with the following code:"
   ]
  },
  {
   "cell_type": "code",
   "execution_count": 62,
   "metadata": {
    "colab": {},
    "colab_type": "code",
    "id": "OZ-56CXl8EnL"
   },
   "outputs": [
    {
     "data": {
      "image/png": "[encoded data removed]",
      "text/plain": [
       "<Figure size 288x288 with 1 Axes>"
      ]
     },
     "metadata": {
      "needs_background": "light"
     },
     "output_type": "display_data"
    }
   ],
   "source": [
    "myplot = plt.matshow(new_rand_array)\n",
    "myplot.axes.get_xaxis().set_visible(False)\n",
    "myplot.axes.get_yaxis().set_visible(False)"
   ]
  },
  {
   "cell_type": "markdown",
   "metadata": {
    "colab_type": "text",
    "id": "PeQK_A8Q8EnO"
   },
   "source": [
    "(See [this page](http://stackoverflow.com/questions/16492830/colorplot-of-2d-array-matplotlib) for a more complex example.)\n",
    "\n",
    "Finally, you can also use the pyplot [```imshow```](http://matplotlib.org/api/pyplot_api.html#matplotlib.pyplot.imshow) method to control many aspects of a plotted array, including things like the [color map](http://matplotlib.org/examples/color/colormaps_reference.html) and the minimum and maximum range."
   ]
  },
  {
   "cell_type": "code",
   "execution_count": 63,
   "metadata": {
    "colab": {},
    "colab_type": "code",
    "id": "4ytg01Qy8EnP"
   },
   "outputs": [
    {
     "data": {
      "image/png": "[encoded data removed]",
      "text/plain": [
       "<Figure size 432x288 with 2 Axes>"
      ]
     },
     "metadata": {
      "needs_background": "light"
     },
     "output_type": "display_data"
    }
   ],
   "source": [
    "# cmap='mapname' changes the color map.\n",
    "# vmin, vmax sets the range of the color bar (from 0.0 - 0.5 in this example)\n",
    "myplot = plt.imshow(new_rand_array,cmap='viridis',vmin=0.0,vmax=0.5)\n",
    "\n",
    "# We can also add a colorbar to the plot!\n",
    "cb = plt.colorbar()\n",
    "\n",
    "# uncomment the following lines to remove the axis labels\n",
    "#myplot.axes.get_xaxis().set_visible(False)\n",
    "#myplot.axes.get_yaxis().set_visible(False)\n",
    "\n",
    "# uncomment the following line to save the figure to your hard drive!\n",
    "#plt.savefig(\"myimage.png\")"
   ]
  },
  {
   "cell_type": "markdown",
   "metadata": {
    "colab_type": "text",
    "id": "6X9-CFuD3fsp"
   },
   "source": [
    "We've included one final combination of NumPy tricks and a matplotlib plot below.\n",
    "\n",
    "**Try reading through the code and see if you can make sense of everything that is happening. If you see a function you've never seen before, try googling it to figure out what it does or ask one of the facilitators!**\n",
    "\n",
    "Try changing the colormap and adding a colorbar as well."
   ]
  },
  {
   "cell_type": "code",
   "execution_count": 64,
   "metadata": {
    "colab": {},
    "colab_type": "code",
    "id": "aUUxd12J3fsr"
   },
   "outputs": [
    {
     "data": {
      "image/png": "[encoded data removed]",
      "text/plain": [
       "<Figure size 432x288 with 1 Axes>"
      ]
     },
     "metadata": {
      "needs_background": "light"
     },
     "output_type": "display_data"
    }
   ],
   "source": [
    "my_array = np.arange(0,100,1)\n",
    "new_array = np.reshape(my_array, (10,10))\n",
    "mask = new_array%3 == 0\n",
    "new_array[mask] = 0\n",
    "myplot = plt.imshow(new_array,cmap=\"inferno\")"
   ]
  },
  {
   "cell_type": "markdown",
   "metadata": {
    "colab_type": "text",
    "id": "1KBxaP7n3fs1"
   },
   "source": [
    "---\n",
    "# That's it. we hope you found this useful!"
   ]
  }
 ],
 "metadata": {
  "colab": {
   "collapsed_sections": [],
   "name": "IntroToNumPy.ipynb",
   "provenance": [],
   "version": "0.3.2"
  },
  "kernelspec": {
   "display_name": "Python 3",
   "language": "python",
   "name": "python3"
  },
  "language_info": {
   "codemirror_mode": {
    "name": "ipython",
    "version": 3
   },
   "file_extension": ".py",
   "mimetype": "text/x-python",
   "name": "python",
   "nbconvert_exporter": "python",
   "pygments_lexer": "ipython3",
   "version": "3.8.8"
  }
 },
 "nbformat": 4,
 "nbformat_minor": 1
}
