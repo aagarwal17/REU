{
 "cells": [
  {
   "cell_type": "markdown",
   "metadata": {
    "colab_type": "text",
    "id": "193xBU4RNR7t"
   },
   "source": [
    "# Introduction to Python"
   ]
  },
  {
   "cell_type": "markdown",
   "metadata": {
    "colab_type": "text",
    "id": "4tsXsZ9ZNR7t"
   },
   "source": [
    "Using notebooks: Each of these boxes that you type text into are called \"cells.\" When you are using notebooks, every time you run a cell (by pressing the play button next to the cell or `shift+enter`), it will apply to all the other cells. So if you define variable `x = 1` in the first cell, you can use it in the next cell or the next 10 cells. This can be helpful, but also can cause some problems if you forget. If you are having trouble, try running all of the cells (you can do this under the `cell` drop down in the top bar)."
   ]
  },
  {
   "cell_type": "markdown",
   "metadata": {
    "colab_type": "text",
    "id": "HG0t72EeNR7u"
   },
   "source": [
    "## 0) Introduction to Programming\n"
   ]
  },
  {
   "cell_type": "markdown",
   "metadata": {
    "colab_type": "text",
    "id": "nHhqV0s8NR7v"
   },
   "source": [
    "### Print Statements"
   ]
  },
  {
   "cell_type": "markdown",
   "metadata": {
    "colab_type": "text",
    "id": "NNkJqAMONR7w"
   },
   "source": [
    "Printing can be a very useful tool in programming, especially when trying to debug (or fix) a program. A print statement tells the computer to \"print\" whatever you ask for while the program is still running."
   ]
  },
  {
   "cell_type": "markdown",
   "metadata": {
    "colab_type": "text",
    "id": "9nK58gddNR7x"
   },
   "source": [
    "#### Example 0.0: Run the cell below to see the output"
   ]
  },
  {
   "cell_type": "code",
   "execution_count": 0,
   "metadata": {
    "colab": {},
    "colab_type": "code",
    "id": "-RBMCG4WNR7x"
   },
   "outputs": [],
   "source": [
    "print(\"Hello, world!\")"
   ]
  },
  {
   "cell_type": "markdown",
   "metadata": {
    "colab_type": "text",
    "id": "A_6tqf_GNR72"
   },
   "source": [
    "Notice that you start the command with `print` and then inclose whatever you want to print in parentheses. "
   ]
  },
  {
   "cell_type": "markdown",
   "metadata": {
    "colab_type": "text",
    "id": "7fshD0-wNR73"
   },
   "source": [
    "#### Exercise 0.0: Print your own name"
   ]
  },
  {
   "cell_type": "code",
   "execution_count": 0,
   "metadata": {
    "colab": {},
    "colab_type": "code",
    "id": "i8lcyov_NR74",
    "tags": [
     "exercise"
    ]
   },
   "outputs": [],
   "source": [
    ""
   ]
  },
  {
   "cell_type": "markdown",
   "metadata": {
    "colab_type": "text",
    "id": "4_BYtLldNR76"
   },
   "source": [
    "This can be useful for printing out the progress of your code, but can also be useful in printing out the value of $variables$"
   ]
  },
  {
   "cell_type": "markdown",
   "metadata": {
    "colab_type": "text",
    "id": "WA5SI5MHNR76"
   },
   "source": [
    "## Variables and Variable Types"
   ]
  },
  {
   "cell_type": "markdown",
   "metadata": {
    "colab_type": "text",
    "id": "klOLcKTFNR77"
   },
   "source": [
    "You can use a variable to store information, much like how you can use variables in algebra to stand for certain values. There are different types of variables that you can use depending on the type of information you want to store.\n",
    "* `bool` (booleans) are either `True` or `False`,\n",
    "* `int` (integers) [`d` when printing] are whole numbers,\n",
    "* `float` [`f`, `e` or `g` when printing] are numbers that have decimals,\n",
    "* `str` (strings) [`c` or `s` when printing] are a set of characters (letters, numbers spaces).\n",
    "\n",
    "Let's look at some examples..."
   ]
  },
  {
   "cell_type": "markdown",
   "metadata": {
    "colab_type": "text",
    "id": "WOTvvAbENR78"
   },
   "source": [
    "#### Example 0.1"
   ]
  },
  {
   "cell_type": "code",
   "execution_count": 0,
   "metadata": {
    "colab": {},
    "colab_type": "code",
    "id": "hFZCNWswNR78"
   },
   "outputs": [],
   "source": [
    "name = \"Jessie\"\n",
    "age = 24\n",
    "years_left = 5\n",
    "print(\"%s is %d years old and will graduate when she is %d years old.\"%(name, age, (age+years_left)) )"
   ]
  },
  {
   "cell_type": "markdown",
   "metadata": {
    "colab_type": "text",
    "id": "YiifBbNjNR7-"
   },
   "source": [
    "However, you will find that usually there are many ways of doing the same thing. For example the print command below could be used instead of print command just above. Plese use the print you are more confortable with!"
   ]
  },
  {
   "cell_type": "code",
   "execution_count": 0,
   "metadata": {
    "colab": {},
    "colab_type": "code",
    "id": "aZc-YPBvNR8A"
   },
   "outputs": [],
   "source": [
    "print(\"{name:s} is {age:d} years old and will graduate when she is {years_left} years old.\".format(name=name, age=age, years_left=age+years_left))"
   ]
  },
  {
   "cell_type": "markdown",
   "metadata": {
    "colab_type": "text",
    "id": "0BUrtQgWNR8C"
   },
   "source": [
    "Some things to notice:\n",
    "1. The strings are in quotations, so the variable `name` is stored as a string and can be referenced with `%s` in a formatted print statement.\n",
    "2. The integer variables (`age` and `years_left`) are a different color than the string &mdash; jupyter is nice and color codes these for you to help you see the difference. You can reference these with `%d`. Be careful though, floats will be the same color as integrers but you need to reference these with `%f`.\n",
    "3. You can do math with integers (and floats), which is why the `age + years_left` works out nicely.\n",
    "4. Your variable names need to be one word &mdash; notice that I have an underscore instead of a space. You can also add numbers to the middle/end of variables names, such as `name1`, `name2`, etc. But you can't _start_ your variable name with a number."
   ]
  },
  {
   "cell_type": "markdown",
   "metadata": {
    "colab_type": "text",
    "id": "fuqx7WjwNR8D"
   },
   "source": [
    "### Operations on variables"
   ]
  },
  {
   "cell_type": "markdown",
   "metadata": {
    "colab_type": "text",
    "id": "rdmeouhSNR8D"
   },
   "source": [
    "There are some basic operations that you can do on variables. These operations work on most types of variables &mdash; they might have \"weird\" results however if anything other than `float` types are used...\n",
    "* Basic math operations like addition (`+`), subtraction(`-`), multiplication (`*`), division (`\\`)  \n",
    "* Find the remainder using `%` \n",
    "* Exponentials use `**`"
   ]
  },
  {
   "cell_type": "markdown",
   "metadata": {
    "colab_type": "text",
    "id": "6Fzq4o79NR8E"
   },
   "source": [
    "#### Example 0.2"
   ]
  },
  {
   "cell_type": "code",
   "execution_count": 0,
   "metadata": {
    "colab": {},
    "colab_type": "code",
    "id": "A4Ll5g4sNR8F"
   },
   "outputs": [],
   "source": [
    "print 3+4\n",
    "print 3-4\n",
    "print 3*4\n",
    "print 3/4"
   ]
  },
  {
   "cell_type": "markdown",
   "metadata": {
    "colab_type": "text",
    "id": "vMB9OvtnNR8H"
   },
   "source": [
    "Notice that this last one prints zero. This is where the warning about not using floats is important. To make the values into floats, you just need to add a decimal point to the values."
   ]
  },
  {
   "cell_type": "code",
   "execution_count": 0,
   "metadata": {
    "colab": {},
    "colab_type": "code",
    "id": "yWkEjBZTNR8I"
   },
   "outputs": [],
   "source": [
    "print 3./4.\n",
    "print 10%3\n",
    "print 3**3"
   ]
  },
  {
   "cell_type": "markdown",
   "metadata": {
    "colab_type": "text",
    "id": "dUybqLvhNR8L"
   },
   "source": [
    "If you have any questions about what any of these operations are doing, you can 1) play with the values used here to see if you can figure out what they're doing or 2) search the operation and \"python\" on google to find some documentation on it."
   ]
  },
  {
   "cell_type": "markdown",
   "metadata": {
    "colab_type": "text",
    "id": "20To1AGjNR8L"
   },
   "source": [
    "#### Example 0.3: operations on strings "
   ]
  },
  {
   "cell_type": "code",
   "execution_count": 0,
   "metadata": {
    "colab": {},
    "colab_type": "code",
    "id": "jSr58f0iNR8M"
   },
   "outputs": [],
   "source": [
    "word1 = \"physics\"\n",
    "word2 = \" is fun\"\n",
    "sentence = word1 + word2\n",
    "print(sentence)"
   ]
  },
  {
   "cell_type": "markdown",
   "metadata": {
    "colab_type": "text",
    "id": "rCYp-taxNR8O"
   },
   "source": [
    "### Complex variable types\n",
    "\n",
    "Sometimes a simple variable is not enough to store all information we desire. A few \"container\" types are offered by python which we end up using fairly often. Additional libraries will also provide specific types that might be useful in certain instances. The built-in containers are:\n",
    "* `list` and `tuple` are ordered lists of elements\n",
    "* `dict` (dictionaries) are maps associating a given `key` to their `value`\n",
    "* `set` is an ensemble of unique entries\n",
    "\n",
    "Let's look at some examples..."
   ]
  },
  {
   "cell_type": "markdown",
   "metadata": {
    "colab_type": "text",
    "id": "JWIQLcX0NR8P"
   },
   "source": [
    "#### Example 0.4: `list` and `tuple`"
   ]
  },
  {
   "cell_type": "code",
   "execution_count": 0,
   "metadata": {
    "colab": {},
    "colab_type": "code",
    "id": "0uUtYl7KNR8Q"
   },
   "outputs": [],
   "source": [
    "my_list_of_fruits = [\"apple\", \"orange\" ]\n",
    "print(my_list_of_fruits)\n",
    "my_list_of_fruits.append(\"cherry\")\n",
    "print(my_list_of_fruits)\n",
    "\n",
    "print(my_list_of_fruits[0])\n",
    "print(my_list_of_fruits[1])\n",
    "print(my_list_of_fruits[2])\n",
    "print(my_list_of_fruits[-1])\n",
    "print(my_list_of_fruits[0:1])\n",
    "print(my_list_of_fruits[0:2])\n",
    "\n",
    "my_list_of_fruits[2] = \"peach\"\n",
    "print(my_list_of_fruits)\n",
    "\n",
    "my_ntuple = (\"apple\", \"orange\")\n",
    "print(my_ntuple)"
   ]
  },
  {
   "cell_type": "markdown",
   "metadata": {
    "colab_type": "text",
    "id": "JzDvy4RyNR8U"
   },
   "source": [
    "There are some very useful things that python can do with lists. For example, let's look at using `len(list)`, `max(list)`, `sort(list)` to see what they do. Also, notice how you can reference elements of a list. There are more things that you can do with lists; this is where we encourage using the internet! Remember to include \"python\" in your search."
   ]
  },
  {
   "cell_type": "markdown",
   "metadata": {
    "colab_type": "text",
    "id": "WU7ma3rTNR8W"
   },
   "source": [
    "#### Example 0.5"
   ]
  },
  {
   "cell_type": "code",
   "execution_count": 0,
   "metadata": {
    "colab": {},
    "colab_type": "code",
    "id": "Qeh9Q-i-NR8W"
   },
   "outputs": [],
   "source": [
    "number_list = [9,20,4,6,18,1,2,7,18,10]\n",
    "print(len(number_list))\n",
    "print(max(number_list))\n",
    "print(sorted(number_list))\n",
    "print(number_list[0],number_list[1],number_list[-1])"
   ]
  },
  {
   "cell_type": "markdown",
   "metadata": {
    "colab_type": "text",
    "id": "mIYOqHn_NR8c"
   },
   "source": [
    "`tuple` objects can be accessed the same as `list` objects, however you cannot change the entries inside them or add new entries. The difference in creating `list` and `tuple` is using `[...]` (for `list`) or `(...)` (for `tuple`)"
   ]
  },
  {
   "cell_type": "markdown",
   "metadata": {
    "colab_type": "text",
    "id": "RjstEzaBCXN4"
   },
   "source": [
    "#### Exercise 0.5\n"
   ]
  },
  {
   "cell_type": "markdown",
   "metadata": {
    "colab_type": "text",
    "id": "dWDKCIj2CjEn"
   },
   "source": [
    "If tuples cannot be changed after creation, what do you think will happen if we try to alter `my_ntuple`? Try changing the first item of `my_ntuple` to `\"banana\"`."
   ]
  },
  {
   "cell_type": "code",
   "execution_count": 0,
   "metadata": {
    "colab": {},
    "colab_type": "code",
    "id": "1V6bhs0yDZWb"
   },
   "outputs": [],
   "source": [
    ""
   ]
  },
  {
   "cell_type": "markdown",
   "metadata": {
    "colab_type": "text",
    "id": "-PC6PUI8NR8c"
   },
   "source": [
    "#### Example 0.6: `dict`"
   ]
  },
  {
   "cell_type": "markdown",
   "metadata": {
    "colab_type": "text",
    "id": "iiDJfbqdNR8d"
   },
   "source": [
    "Using `dict` is nice for when you want to have strings (or words) to reference what is in your 'list'"
   ]
  },
  {
   "cell_type": "code",
   "execution_count": 0,
   "metadata": {
    "colab": {},
    "colab_type": "code",
    "id": "w8MxiwZ0NR8e"
   },
   "outputs": [],
   "source": [
    "my_office_info = dict()\n",
    "my_office_info[\"room\"] = 4230\n",
    "my_office_info[\"Building\"] = \"BPS\"\n",
    "print(my_office_info)\n",
    "print(my_office_info[\"room\"])\n",
    "print(my_office_info.keys())\n",
    "print(my_office_info.values())\n",
    "my_address_info = {\n",
    "    \"street\": \"567 Wilson Rd.\",\n",
    "    \"city\": \"East Lansing\",\n",
    "}\n",
    "print(my_address_info)\n",
    "my_office_info[\"address\"] = my_address_info\n",
    "print(my_office_info)"
   ]
  },
  {
   "cell_type": "markdown",
   "metadata": {
    "colab_type": "text",
    "id": "NxWfuKcJNR8g"
   },
   "source": [
    "Note that you can even have dictionaries within dictionaries!"
   ]
  },
  {
   "cell_type": "markdown",
   "metadata": {
    "colab_type": "text",
    "id": "J1OEjI6lNR8h"
   },
   "source": [
    "#### Example 0.7: `set`"
   ]
  },
  {
   "cell_type": "code",
   "execution_count": 0,
   "metadata": {
    "colab": {},
    "colab_type": "code",
    "id": "943W9_PANR8h"
   },
   "outputs": [],
   "source": [
    "my_set_of_colors = set()\n",
    "my_set_of_colors.add(\"green\")\n",
    "print(my_set_of_colors)\n",
    "my_set_of_colors.add(\"white\")\n",
    "print(my_set_of_colors)\n",
    "my_set_of_colors.add(\"green\")\n",
    "print(my_set_of_colors)"
   ]
  },
  {
   "cell_type": "markdown",
   "metadata": {
    "colab_type": "text",
    "id": "wjlk3mUfNR8j"
   },
   "source": [
    "`set` objects are particularly useful when you want to to make sure there are no repetitions in a list &mdash; that for example can happen if you want to look at the union of 2 non disjoint `list`:"
   ]
  },
  {
   "cell_type": "code",
   "execution_count": 0,
   "metadata": {
    "colab": {},
    "colab_type": "code",
    "id": "W1W_2KiDNR8k"
   },
   "outputs": [],
   "source": [
    "list_1 = [ 1, 2, 4, 6, 8 ]\n",
    "list_2 = [ 1, 4, 8, 12, 16]\n",
    "union_12 = list_1 + list_2\n",
    "print(union_12, len(union_12))\n",
    "union_12_set = set(list_1+list_2)\n",
    "print(union_12_set, len(union_12_set))"
   ]
  },
  {
   "cell_type": "markdown",
   "metadata": {
    "colab_type": "text",
    "id": "YJ8u7ztmNR8n"
   },
   "source": [
    "## Using Libraries"
   ]
  },
  {
   "cell_type": "markdown",
   "metadata": {
    "colab_type": "text",
    "id": "yo0Ux3GjNR8o"
   },
   "source": [
    "People have been kind enough to program some pieces of code for you that you will use often. These can be math functions, such as square roots, trig functions, and functions that find the average number of a list. They can also be more complicated, such as functions that do interpolations, minimizations, and even fourier transforms."
   ]
  },
  {
   "cell_type": "markdown",
   "metadata": {
    "colab_type": "text",
    "id": "5JtPt2DLNR8p"
   },
   "source": [
    "To use these functions, you first need to `import` the library that they come from. Some popular libraries that you may encounter include `math`, `numpy`, `scipy`, `matplotlib`, and `pickle`. In the examples below we use only the `math` library.\n",
    "\n",
    "There are a couple different ways to do the import. Look at the examples below and notice the differences they have. Look up \"python math radians\" if you are not sure what these functions are doing."
   ]
  },
  {
   "cell_type": "markdown",
   "metadata": {
    "colab_type": "text",
    "id": "e3PmuUHaNR-X"
   },
   "source": [
    "## Importing Libraries: Math"
   ]
  },
  {
   "cell_type": "markdown",
   "metadata": {
    "colab_type": "text",
    "id": "xhqRMK8mNR8q"
   },
   "source": [
    "#### Example 0.8: importing math"
   ]
  },
  {
   "cell_type": "code",
   "execution_count": 0,
   "metadata": {
    "colab": {},
    "colab_type": "code",
    "id": "FtKrI-e7NR8q"
   },
   "outputs": [],
   "source": [
    "import math\n",
    "print(math.radians(180))\n",
    "print(math.degrees(math.pi/2.))"
   ]
  },
  {
   "cell_type": "markdown",
   "metadata": {
    "colab_type": "text",
    "id": "0ES2p1AdNR8s"
   },
   "source": [
    "Sometimes we only want a few functions from a library and don't want to always prefix it with the `math`, as we were doing before. To only import functions you want you can do the following:"
   ]
  },
  {
   "cell_type": "code",
   "execution_count": 0,
   "metadata": {
    "colab": {},
    "colab_type": "code",
    "id": "39m0UgUtNR8t"
   },
   "outputs": [],
   "source": [
    "from math import pi,radians,degrees\n",
    "print(radians(180))\n",
    "print(degrees(pi/2.))"
   ]
  },
  {
   "cell_type": "markdown",
   "metadata": {
    "colab_type": "text",
    "id": "RpaNeWfHNR8w"
   },
   "source": [
    "It is also possible to `import` all functions from a library using:\n",
    "```python\n",
    "    from math import *\n",
    "```\n",
    "for example. **This is not recommended** because if you do that for two libraries that implement the same function separately you might get a result you are not expecting from the given function.\n",
    "\n",
    "Another tool we use often when importing functions is giving them a name we prefer to use. If we use `math` all the time, typing just `m.` rather than `math.` might be easier. To do that, use the `as` statement in the import, as follows:"
   ]
  },
  {
   "cell_type": "code",
   "execution_count": 0,
   "metadata": {
    "colab": {},
    "colab_type": "code",
    "id": "YP3vfiXeNR8w"
   },
   "outputs": [],
   "source": [
    "import math as m\n",
    "print(m.radians(180))\n",
    "print(m.degrees(m.pi/2.))"
   ]
  },
  {
   "cell_type": "markdown",
   "metadata": {
    "colab_type": "text",
    "id": "g1Pa1M6CNR-X"
   },
   "source": [
    "#### Exercise 0.8"
   ]
  },
  {
   "cell_type": "markdown",
   "metadata": {
    "colab_type": "text",
    "id": "k3rt0IqiNR-X"
   },
   "source": [
    "What is the value of $\\sin(\\pi)$? What about $\\sin\\left(\\frac{\\pi}{4}\\right)$? $\\sin\\left(\\frac{\\pi}{19}\\right)$?"
   ]
  },
  {
   "cell_type": "code",
   "execution_count": 0,
   "metadata": {
    "colab": {},
    "colab_type": "code",
    "id": "-vMfXUazNR-Y",
    "tags": [
     "exercise"
    ]
   },
   "outputs": [],
   "source": [
    ""
   ]
  },
  {
   "cell_type": "markdown",
   "metadata": {
    "colab_type": "text",
    "id": "ukLyCj-uNR-a"
   },
   "source": [
    "Note that if you did not get $\\sin(\\pi)=0$, but rather a very small number, that is normal. Computers will only be able to do calculations to a given precision, and so all operations incur a certain (typically very small) error. This is what we call _numerical precision_. For that reason it is sometimes problematic to compare a `float` to `0`: an `if` statement comparing `math.sin(math.pi) == 0` would return `False` for instance!"
   ]
  },
  {
   "cell_type": "markdown",
   "metadata": {
    "colab_type": "text",
    "id": "IKZfWcVQNR81"
   },
   "source": [
    "#  1) Structures in Programming"
   ]
  },
  {
   "cell_type": "markdown",
   "metadata": {
    "colab_type": "text",
    "id": "0vCLh8grNR81"
   },
   "source": [
    "## `if` statements"
   ]
  },
  {
   "cell_type": "markdown",
   "metadata": {
    "colab_type": "text",
    "id": "lxwjB285NR82"
   },
   "source": [
    "One of the more basic constructs in codes are `if` statements. These can be used to control the flow of operations, that is, to do some things in some cases and other things in others. They are often (but not always) accompanied by `else` and/or `elif` (else if) statements which will give more options in case the tested condition doesn't match.\n",
    "\n",
    "To make it clearer, here are some examples:"
   ]
  },
  {
   "cell_type": "markdown",
   "metadata": {
    "colab_type": "text",
    "id": "urZrBx7TNR83"
   },
   "source": [
    "#### Example 1.0"
   ]
  },
  {
   "cell_type": "code",
   "execution_count": 0,
   "metadata": {
    "colab": {},
    "colab_type": "code",
    "id": "lGY0DSu6NR84"
   },
   "outputs": [],
   "source": [
    "known_names = []"
   ]
  },
  {
   "cell_type": "code",
   "execution_count": 0,
   "metadata": {
    "colab": {},
    "colab_type": "code",
    "id": "jubzbtrqNR85"
   },
   "outputs": [],
   "source": [
    "my_name=input(\"What is your name? \")\n",
    "if my_name in known_names:\n",
    "    print(\"Hello again %s!\" % (my_name))\n",
    "else:\n",
    "    print(\"Nice to meet you %s!\" %(my_name))\n",
    "    known_names.append(my_name)"
   ]
  },
  {
   "cell_type": "markdown",
   "metadata": {
    "colab_type": "text",
    "id": "rZLmFoDkNR87"
   },
   "source": [
    "Try running the above block a few times and see how the code goes through the different parts of the `if`/`else` block.\n",
    "\n",
    "The `input` function above is used to ask the user a question and save the answer (always a string) in the variable `my_name`.\n",
    "\n",
    "`known_names` is another type python provides you which is a `list`. To look individually at elements of a list we need the `for` loops discussed in the next section... but for now to simply see what is inside the list you can just use the `print` function, as python knows how to print `list`s. See for example which are the names it has learned:"
   ]
  },
  {
   "cell_type": "code",
   "execution_count": 0,
   "metadata": {
    "colab": {},
    "colab_type": "code",
    "id": "mbTgxe2fNR88"
   },
   "outputs": [],
   "source": [
    "print(known_names)"
   ]
  },
  {
   "cell_type": "markdown",
   "metadata": {
    "colab_type": "text",
    "id": "F6DAd3U1NR89"
   },
   "source": [
    "As a side note, the code block in the beginning of the example was split in two blocks because every time the first block is run the `known_names` list is restarted, and if we did that all the time the code would not learn new names!"
   ]
  },
  {
   "cell_type": "markdown",
   "metadata": {
    "colab_type": "text",
    "id": "BiRCF-AyNR8-"
   },
   "source": [
    "#### Example 1.1"
   ]
  },
  {
   "cell_type": "markdown",
   "metadata": {
    "colab_type": "text",
    "id": "IQPGk6OCNR8_"
   },
   "source": [
    "\n",
    "Below is another example which also involves changing from the input type (`str`) to an integer (`int`) before doing a calculation."
   ]
  },
  {
   "cell_type": "code",
   "execution_count": 0,
   "metadata": {
    "colab": {},
    "colab_type": "code",
    "id": "4zugKBFJNR8_"
   },
   "outputs": [],
   "source": [
    "my_number=int(input(\"Pick an integer between 0 and 100: \"))\n",
    "if my_number > 100:\n",
    "    print(\"%d is too large!\" % (my_number))\n",
    "elif my_number < 0:\n",
    "    print(\"%d is too small!\" % (my_number))\n",
    "else:\n",
    "    print(\"Thank you! The chosen number is %d.\" % (my_number))"
   ]
  },
  {
   "cell_type": "markdown",
   "metadata": {
    "colab_type": "text",
    "id": "SMLxRfViNR9B"
   },
   "source": [
    "It is also possible to use `and` and `or` statements to have more than one condition in the same `if` or `elif` statement. For example we could combine the `if` and `elif` above into:\n",
    "```python\n",
    "if my_number > 100 or my_number < 0:\n",
    "    print(\"%d is not between 0-100!\" % (my_number))\n",
    "```\n",
    "Feel free to try editing the `if` above and make it simpler using `and` or `or` statements."
   ]
  },
  {
   "cell_type": "markdown",
   "metadata": {
    "colab_type": "text",
    "id": "z5CmAIpmNR9B"
   },
   "source": [
    "## Loops"
   ]
  },
  {
   "cell_type": "markdown",
   "metadata": {
    "colab_type": "text",
    "id": "k7VppEexNR9C"
   },
   "source": [
    "Computers are great at making calculations that run in loops, or repetative commands."
   ]
  },
  {
   "cell_type": "markdown",
   "metadata": {
    "colab_type": "text",
    "id": "K7zbMPNqNR9D"
   },
   "source": [
    "### `for` loops"
   ]
  },
  {
   "cell_type": "markdown",
   "metadata": {
    "colab_type": "text",
    "id": "R__FK6eXNR9F"
   },
   "source": [
    "This is the main type of loop we use. While you can loop over objects of different types, that is not recommended because it makes the code harder to read.\n",
    "\n",
    "The basic usage is as follows:"
   ]
  },
  {
   "cell_type": "code",
   "execution_count": 0,
   "metadata": {
    "colab": {},
    "colab_type": "code",
    "id": "L7pZ5HNpNR9F"
   },
   "outputs": [],
   "source": [
    "for loop_variable in [\"entry1\", \"entry2\"] :\n",
    "    print(\"This is the \\\"%s\\\" of this loop!\" % (loop_variable))"
   ]
  },
  {
   "cell_type": "markdown",
   "metadata": {
    "colab_type": "text",
    "id": "ICm60Z7HNR9I"
   },
   "source": [
    "#### Example 1.2"
   ]
  },
  {
   "cell_type": "code",
   "execution_count": 0,
   "metadata": {
    "colab": {},
    "colab_type": "code",
    "id": "7K_CKErPNR9I"
   },
   "outputs": [],
   "source": [
    "age = 24\n",
    "years_left = 5\n",
    "for age_in_school in range(age,age+years_left):\n",
    "    years_to_graduate=age+years_left-age_in_school\n",
    "    print(\"When Jessie is %d years old, she will still have %d years to graduate\" %(age_in_school, years_to_graduate))"
   ]
  },
  {
   "cell_type": "markdown",
   "metadata": {
    "colab_type": "text",
    "id": "VuvRjihYNR9L"
   },
   "source": [
    "The `range` function used above will just provide a list of entries from `age` to `age+years_left`. You should try using it in the exercise below, but pay attention to the fact that in the example above the \"0 years to graduate\" was never printed! We will discuss a bit more about this issue when talking about `numpy` in the next section."
   ]
  },
  {
   "cell_type": "markdown",
   "metadata": {
    "colab_type": "text",
    "id": "nBFL5LHQNR9M"
   },
   "source": [
    "**Remember that if you want to define a variable that should not change INSIDE of your loop, then you should write it before starting your loop. Notice in Example 1.2 that age and years_left is needed before creating the loop.**"
   ]
  },
  {
   "cell_type": "markdown",
   "metadata": {
    "colab_type": "text",
    "id": "U8QCH_9zNR9M"
   },
   "source": [
    "#### Exercice 1.0"
   ]
  },
  {
   "cell_type": "markdown",
   "metadata": {
    "colab_type": "text",
    "id": "VIPtn1meNR9M"
   },
   "source": [
    "Calculate (and print) how much is 10! (look up factorial if you dont remember what ! means in math) without using a library functions"
   ]
  },
  {
   "cell_type": "code",
   "execution_count": 0,
   "metadata": {
    "colab": {},
    "colab_type": "code",
    "id": "wsdYsjYfNR9O",
    "tags": [
     "exercise"
    ]
   },
   "outputs": [],
   "source": [
    ""
   ]
  },
  {
   "cell_type": "markdown",
   "metadata": {
    "colab_type": "text",
    "id": "JVUVVIAnNR9P"
   },
   "source": [
    "For testing purposes (in this simple case) we can compare with the `factorial` function in the `math` library:"
   ]
  },
  {
   "cell_type": "code",
   "execution_count": 0,
   "metadata": {
    "colab": {},
    "colab_type": "code",
    "id": "6OodMIZ-NR9Q"
   },
   "outputs": [],
   "source": [
    "from math import factorial\n",
    "print(\"10! = %d\" % (factorial(10)))"
   ]
  },
  {
   "cell_type": "markdown",
   "metadata": {
    "colab_type": "text",
    "id": "us3eGfEdNR9S"
   },
   "source": [
    "Did you get the correct answer? If not, check your loop is going through the steps you expect it to!"
   ]
  },
  {
   "cell_type": "markdown",
   "metadata": {
    "colab_type": "text",
    "id": "j-ZnVA_-NR9S"
   },
   "source": [
    "#### Exercise 1.1"
   ]
  },
  {
   "cell_type": "markdown",
   "metadata": {
    "colab_type": "text",
    "id": "VojHBqjiNR9S"
   },
   "source": [
    "Now let's expand a bit on the previous exercise and instead of calculating 10!, let's ask the user for a number and calculate the factorial of that number.\n",
    "\n",
    "Beware, though, that in some cases the user might give you an integer that is below 1 and you cannot use the equation above."
   ]
  },
  {
   "cell_type": "code",
   "execution_count": 0,
   "metadata": {
    "colab": {},
    "colab_type": "code",
    "id": "KvKWg8cYNR9S",
    "tags": [
     "exercise"
    ]
   },
   "outputs": [],
   "source": [
    ""
   ]
  },
  {
   "cell_type": "markdown",
   "metadata": {
    "colab_type": "text",
    "id": "X8GHdfFBVgk2"
   },
   "source": [
    "In many physics applications, you will want to run through a range of numbers to do a calculation on. We will start with a simple example and then you can try it with a more exciting exercise."
   ]
  },
  {
   "cell_type": "code",
   "execution_count": 0,
   "metadata": {
    "colab": {},
    "colab_type": "code",
    "id": "n-0XU9ASWO5p"
   },
   "outputs": [],
   "source": [
    "# range(start, end, integer step size)\n",
    "for x in range(0,10,2):\n",
    "  print(x)"
   ]
  },
  {
   "cell_type": "markdown",
   "metadata": {
    "colab_type": "text",
    "id": "di4KgK__WYxz"
   },
   "source": [
    "**Notice that the loop above doesn't print 10. Python doesn't include the final value for it's loops! If you ever forget, printing the values you are running through (like we did above) can be a good way to check.**"
   ]
  },
  {
   "cell_type": "markdown",
   "metadata": {
    "colab_type": "text",
    "id": "J89bStK6NR-a"
   },
   "source": [
    "#### Exercise 1.2"
   ]
  },
  {
   "cell_type": "markdown",
   "metadata": {
    "colab_type": "text",
    "id": "XT_n2qS1NR-a"
   },
   "source": [
    "Create an array for your `x`-values that goes from $0$ to 10  with step sizes of 1. Create a list to store your y values that contains the answer to $y = \\sin(x)$ for each point. Print your `y` values. Do these make sense (i.e. is the value of y always less than 1)? Can you have your program check this for you?"
   ]
  },
  {
   "cell_type": "code",
   "execution_count": 0,
   "metadata": {
    "colab": {},
    "colab_type": "code",
    "id": "HqxG2oYANR-a",
    "tags": [
     "exercise"
    ]
   },
   "outputs": [],
   "source": [
    ""
   ]
  },
  {
   "cell_type": "markdown",
   "metadata": {
    "colab_type": "text",
    "id": "Gpz8Jz_uNR9U"
   },
   "source": [
    "### `for` loop extras"
   ]
  },
  {
   "cell_type": "markdown",
   "metadata": {
    "colab_type": "text",
    "id": "VSJ7qnSTNR9U"
   },
   "source": [
    "Sometimes in python, loops will be embedded in other constructions. While writting these loops is more advanced python, it is useful to understand how they work so you can understand what other people code are doing (which is something you will always have to do in research).\n",
    "\n",
    "For example the following \"one-liner\" (or \"list comprehension\"):"
   ]
  },
  {
   "cell_type": "code",
   "execution_count": 0,
   "metadata": {
    "colab": {},
    "colab_type": "code",
    "id": "iIN3S24SNR9U"
   },
   "outputs": [],
   "source": [
    "my_list = [ 1, 2, 3]\n",
    "my_list_squared = [ i*i for i in my_list ]\n",
    "print(my_list_squared)"
   ]
  },
  {
   "cell_type": "markdown",
   "metadata": {
    "colab_type": "text",
    "id": "_STs0LN9NR9b"
   },
   "source": [
    "is equivalent to:"
   ]
  },
  {
   "cell_type": "code",
   "execution_count": 0,
   "metadata": {
    "colab": {},
    "colab_type": "code",
    "id": "1R2DltkuNR9b"
   },
   "outputs": [],
   "source": [
    "my_list_squared = []\n",
    "for i in my_list:\n",
    "    my_list_squared = my_list_squared + [i*i]\n",
    "print(my_list_squared)"
   ]
  },
  {
   "cell_type": "markdown",
   "metadata": {
    "colab_type": "text",
    "id": "vZV6ga0pL5Lm"
   },
   "source": [
    "Another very useful construct is an `enumerate` loop. Enumerate lets you count how many times you have looped:"
   ]
  },
  {
   "cell_type": "code",
   "execution_count": 0,
   "metadata": {
    "colab": {},
    "colab_type": "code",
    "id": "_WaaA52VORrK"
   },
   "outputs": [],
   "source": [
    "sports = [\"soccer\",\"volleyball\",\"golf\",\"tennis\"]\n",
    "for i, sport in enumerate(sports):\n",
    "    print(\"The %dth sport is %s\" % (i,sport))"
   ]
  },
  {
   "cell_type": "markdown",
   "metadata": {
    "colab_type": "text",
    "id": "HycQKbVsNR9d"
   },
   "source": [
    "### `while` loops"
   ]
  },
  {
   "cell_type": "markdown",
   "metadata": {
    "colab_type": "text",
    "id": "-0A2qBGdNR9e"
   },
   "source": [
    "Another type of loop is the `while` loop. While we definitely use `for` loops more often than `while` loops, there are some cases where using a `while` loop is easier. When we don't know before the loop how long it should be, we can define it like in the example below."
   ]
  },
  {
   "cell_type": "markdown",
   "metadata": {
    "colab_type": "text",
    "id": "95YcifwENR9f"
   },
   "source": [
    "#### Example 1.3"
   ]
  },
  {
   "cell_type": "code",
   "execution_count": 0,
   "metadata": {
    "colab": {},
    "colab_type": "code",
    "id": "ogPkD7bTNR9f"
   },
   "outputs": [],
   "source": [
    "answer = input('Do you understand how while loops work? ')\n",
    "counter = 0\n",
    "while answer != 'yes':\n",
    "    counter+=1\n",
    "    if counter > 1:\n",
    "        print(\"To get out of these loop please reply yes.\")\n",
    "    answer = input('Is it more clear after %d iterations? ' % (counter))"
   ]
  },
  {
   "cell_type": "markdown",
   "metadata": {
    "colab_type": "text",
    "id": "idO0CAVkNR9i"
   },
   "source": [
    "#### Exercise 1.3"
   ]
  },
  {
   "cell_type": "markdown",
   "metadata": {
    "colab_type": "text",
    "id": "rpjRHq4xNR9j"
   },
   "source": [
    "Write a while loop that stops after 10 iterations. Have it print out a number for each time it loops."
   ]
  },
  {
   "cell_type": "code",
   "execution_count": 0,
   "metadata": {
    "colab": {},
    "colab_type": "code",
    "id": "_Gx9K9DSNR9j",
    "tags": [
     "exercise"
    ]
   },
   "outputs": [],
   "source": [
    ""
   ]
  },
  {
   "cell_type": "markdown",
   "metadata": {
    "colab_type": "text",
    "id": "gJ898KIONR9k"
   },
   "source": [
    "**Notice that python automatically starts its numbering at zero!!! This is the same when we are working with the index of `lists` and `tuples`. It is important to be aware of this!**"
   ]
  },
  {
   "cell_type": "markdown",
   "metadata": {
    "colab_type": "text",
    "id": "UpAR4Z6BNR9m"
   },
   "source": [
    "### Flow control in loops\n",
    "\n",
    "One last point worth noting when working with loops is that they provide methods to exit out of the loop (`break`) or go the next iteration (`continue`). Those \"flow control\" instructions work with `for` and `while` loops equally well.\n",
    "\n",
    "Take a look at the loop below to see them in usage:"
   ]
  },
  {
   "cell_type": "markdown",
   "metadata": {
    "colab_type": "text",
    "id": "ogKgM443NR9m"
   },
   "source": [
    "#### Example 1.4"
   ]
  },
  {
   "cell_type": "code",
   "execution_count": 0,
   "metadata": {
    "colab": {},
    "colab_type": "code",
    "id": "Lau3NRVUNR9n"
   },
   "outputs": [],
   "source": [
    "i=1\n",
    "while True:\n",
    "    i=i*2\n",
    "    if i < 10:\n",
    "        continue\n",
    "    if i > 100:\n",
    "        break\n",
    "    print(\"%d\" % (i))"
   ]
  },
  {
   "cell_type": "markdown",
   "metadata": {
    "colab_type": "text",
    "id": "QLKFFA-aNR9r"
   },
   "source": [
    "#### Exercise 1.4\n",
    "\n",
    "From a google challenge: You are studying the flow of people in a hallway and want to know how many people will people pass by each other starting at a given moment. Everyone moves at the same speed and never changes direction. To represent the hallway at the initial time we will use a list with the following symbols:\n",
    "* \"-\" empty hallway\n",
    "* \"<\" person moving to the left\n",
    "* \">\" person moving to the right\n",
    "\n",
    "Some initial conditions you want to test are:\n",
    "```python\n",
    "initial_state = [ \"-\" , \"-\", \">\", \"-\" , \"<\", \"-\" ] # 1 crossing\n",
    "initial_state = [ \"-\" , \"-\", \"<\", \"-\" , \">\", \"-\" ] # 0 crossings\n",
    "initial_state = [ \"-\" , \"-\", \">\", \"<\" , \"<\", \"-\" ] # 2 crossings\n",
    "initial_state = [ \"-\" , \"<\", \">\", \">\" , \"<\", \"-\" ] # 2 crossings\n",
    "initial_state = [ \"-\" , \">\", \"<\", \">\" , \"<\", \"-\" ] # 3 crossings\n",
    "```\n",
    "\n",
    "But feel free to try a few more!"
   ]
  },
  {
   "cell_type": "code",
   "execution_count": 0,
   "metadata": {
    "colab": {},
    "colab_type": "code",
    "id": "fDCP2NabNR9s",
    "tags": [
     "exercise"
    ]
   },
   "outputs": [],
   "source": [
    ""
   ]
  },
  {
   "cell_type": "markdown",
   "metadata": {
    "colab_type": "text",
    "id": "Dlj77gr1NR9t"
   },
   "source": [
    "## Functions"
   ]
  },
  {
   "cell_type": "markdown",
   "metadata": {
    "colab_type": "text",
    "id": "yVKy29lRNR9u"
   },
   "source": [
    "Functions are useful to use if you are doing something repetative. There are some functions that have been written for you that you can use. We've seen some already, like `sort()` for lists and `math.sin()`. Here is a quick overview on how to write your own functions."
   ]
  },
  {
   "cell_type": "markdown",
   "metadata": {
    "colab_type": "text",
    "id": "9uHur7ZeNR9u"
   },
   "source": [
    "#### Example  1.5"
   ]
  },
  {
   "cell_type": "code",
   "execution_count": 0,
   "metadata": {
    "colab": {},
    "colab_type": "code",
    "id": "38GINvQINR9u"
   },
   "outputs": [],
   "source": [
    "import math\n",
    "#Defining the function\n",
    "def calculate_distance(xposition,yposition,zposition,start_position=10):\n",
    "    r = math.sqrt(xposition**2 + yposition**2 + zposition**2)\n",
    "    start_position = 12\n",
    "    distance_from_start = r - start_position\n",
    "    return r, distance_from_start"
   ]
  },
  {
   "cell_type": "markdown",
   "metadata": {
    "colab_type": "text",
    "id": "bg9UNatKNR9w"
   },
   "source": [
    "Now that the function is defined, let's use it!"
   ]
  },
  {
   "cell_type": "code",
   "execution_count": 0,
   "metadata": {
    "colab": {},
    "colab_type": "code",
    "id": "TrlyhvxzNR9x"
   },
   "outputs": [],
   "source": [
    "#This calls the function and uses it\n",
    "for x in range(0,100,20):\n",
    "    current_distance, distance_moved = calculate_distance(x,2,zposition=10,start_position=12)\n",
    "    print(\"I am current at position %f and have moved %f meters\"%(current_distance, distance_moved))"
   ]
  },
  {
   "cell_type": "markdown",
   "metadata": {
    "colab_type": "text",
    "id": "Yv2T5aBdNR9y"
   },
   "source": [
    "Some things to notice:\n",
    "1. The variables inside the parentheses of a function are called arguments or args. This may help when you are looking things up in online documentation.\n",
    "2. Every time you \"call\" your function, or use it in your code, you will need to make sure you tell python what values the arguments should take. You can do this by \"passing\" values to the arguments in order, or by explicitly naming the arguments. We showed off both.\n",
    "3. Arguments can be given default values in the function definition. This is what was done with `start_position.`\n",
    "4. For values inside a function to outlive the function call, you must \"return\" them. You can return more than one thing, but make sure you have more than one variable to assign them to. If you have variables that you create inside of your function that you do not return, you will not be able to access them when calling the function. For example, try to print `start_position` inside of your loop, but outside of the function.\n"
   ]
  },
  {
   "cell_type": "markdown",
   "metadata": {
    "colab_type": "text",
    "id": "njUapL3NNR9y"
   },
   "source": [
    "#### Exercise 1.5\n",
    "\n",
    "In the last exercice we had coded a loop to count how many people were crossing in a hallway. We then tested it with a few different inputs. That is a prime example of when we'd want to create and use a function.\n",
    "\n",
    "Transform that code above in a function, and show the results for running it for all tests enumerated above."
   ]
  },
  {
   "cell_type": "code",
   "execution_count": 0,
   "metadata": {
    "colab": {},
    "colab_type": "code",
    "id": "v-gouD1PNR9y",
    "tags": [
     "exercise"
    ]
   },
   "outputs": [],
   "source": [
    ""
   ]
  },
  {
   "cell_type": "markdown",
   "metadata": {
    "colab_type": "text",
    "id": "EmbG0ya_NR9z"
   },
   "source": [
    "### `lambda` Functions\n",
    "\n",
    "Before we start talking about `lambda` functions it is important to realize that in python, we can assign functions to variables. Consider for example the code below:"
   ]
  },
  {
   "cell_type": "code",
   "execution_count": 0,
   "metadata": {
    "colab": {},
    "colab_type": "code",
    "id": "Y6E1SMwkNR90"
   },
   "outputs": [],
   "source": [
    "def double(ans):\n",
    "    return ans*2\n",
    "\n",
    "my_function = double\n",
    "print(\"Calling my function = %d\" % my_function(2))"
   ]
  },
  {
   "cell_type": "markdown",
   "metadata": {
    "colab_type": "text",
    "id": "QBxAoJyPNR92"
   },
   "source": [
    "A `lambda` function is essentially the one-liner version of a function declaration, the same way that:\n",
    "```python\n",
    "my_list_squared = [ i*i for i in my_list ]\n",
    "```\n",
    "is equivalent to\n",
    "```python\n",
    "my_list_squared = []\n",
    "for i in my_list:\n",
    "    my_list_squared = my_list_squared + [i*i]\n",
    "```\n",
    "\n",
    "For the `double` function created above the `lambda` equivalent would be:"
   ]
  },
  {
   "cell_type": "code",
   "execution_count": 0,
   "metadata": {
    "colab": {},
    "colab_type": "code",
    "id": "p9s3bZGgNR92"
   },
   "outputs": [],
   "source": [
    "double_lambda = lambda ans: ans*2\n",
    "print(\"Calling double lambda function = %d\" % double_lambda(2))"
   ]
  },
  {
   "cell_type": "markdown",
   "metadata": {
    "colab_type": "text",
    "id": "R6W6omqSNR93"
   },
   "source": [
    "From a general point a `lambda` function will look like:\n",
    "```python\n",
    "function_name = lambda var1, var2, ... , varN : code using var1, ..., varN\n",
    "```\n",
    "\n",
    "As for the case of one-liner list creation above, it's recommended that you only use it for very short and simple functions.\n",
    "\n",
    "`lambda` functions will often be used when passing simple options to other functions. Consider for example the code below:"
   ]
  },
  {
   "cell_type": "code",
   "execution_count": 0,
   "metadata": {
    "colab": {},
    "colab_type": "code",
    "id": "qogZMrbSNR93"
   },
   "outputs": [],
   "source": [
    "def printIf(text,condition):\n",
    "    if condition(text):\n",
    "        print(text)\n",
    "        \n",
    "printIf(\"testing.\", condition=lambda word: len(word)<10 )\n",
    "printIf(\"testing it again\", condition=lambda word: len(word)<10 )\n",
    "printIf(\"testing it again and now it will print!\", condition=lambda word: len(word)>10 )"
   ]
  },
  {
   "cell_type": "code",
   "execution_count": 0,
   "metadata": {
    "colab": {},
    "colab_type": "code",
    "id": "sH4JMC_tLitZ"
   },
   "outputs": [],
   "source": [
    ""
   ]
  }
 ],
 "metadata": {
  "colab": {
   "collapsed_sections": [],
   "name": "IntroToPythonBeginners.ipynb",
   "provenance": [],
   "version": "0.3.2"
  },
  "kernelspec": {
   "display_name": "Python 3",
   "language": "python",
   "name": "python3"
  }
 },
 "nbformat": 4,
 "nbformat_minor": 0
}
