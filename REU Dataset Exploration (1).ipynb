{
 "cells": [
  {
   "cell_type": "code",
   "execution_count": 1,
   "id": "959c7a8d",
   "metadata": {},
   "outputs": [],
   "source": [
    "#%% Imports\n",
    "\n",
    "# Basic Imports \n",
    "import numpy as np\n",
    "import pandas as pd\n",
    "\n",
    "# Plotting Imports\n",
    "import matplotlib.pyplot as plt\n",
    "import seaborn as sns\n",
    "%matplotlib inline"
   ]
  },
  {
   "cell_type": "code",
   "execution_count": 2,
   "id": "aa08d92d",
   "metadata": {},
   "outputs": [
    {
     "name": "stderr",
     "output_type": "stream",
     "text": [
      "/mnt/home/f0102402/anaconda3/lib/python3.8/site-packages/IPython/core/interactiveshell.py:3165: DtypeWarning: Columns (6) have mixed types.Specify dtype option on import or set low_memory=False.\n",
      "  has_raised = await self.run_ast_nodes(code_ast.body, cell_name,\n"
     ]
    },
    {
     "data": {
      "text/html": [
       "<div>\n",
       "<style scoped>\n",
       "    .dataframe tbody tr th:only-of-type {\n",
       "        vertical-align: middle;\n",
       "    }\n",
       "\n",
       "    .dataframe tbody tr th {\n",
       "        vertical-align: top;\n",
       "    }\n",
       "\n",
       "    .dataframe thead th {\n",
       "        text-align: right;\n",
       "    }\n",
       "</style>\n",
       "<table border=\"1\" class=\"dataframe\">\n",
       "  <thead>\n",
       "    <tr style=\"text-align: right;\">\n",
       "      <th></th>\n",
       "      <th>NID</th>\n",
       "      <th>diseaseNID</th>\n",
       "      <th>geneNID</th>\n",
       "      <th>source</th>\n",
       "      <th>association</th>\n",
       "      <th>associationType</th>\n",
       "      <th>sentence</th>\n",
       "      <th>pmid</th>\n",
       "      <th>score</th>\n",
       "      <th>EL</th>\n",
       "      <th>EI</th>\n",
       "      <th>year</th>\n",
       "    </tr>\n",
       "  </thead>\n",
       "  <tbody>\n",
       "    <tr>\n",
       "      <th>0</th>\n",
       "      <td>1130681</td>\n",
       "      <td>2107</td>\n",
       "      <td>793</td>\n",
       "      <td>BEFREE</td>\n",
       "      <td>NaN</td>\n",
       "      <td>Biomarker</td>\n",
       "      <td>No correlation could be found between Broder's...</td>\n",
       "      <td>1000501.0</td>\n",
       "      <td>0.10</td>\n",
       "      <td>NaN</td>\n",
       "      <td>0.956175</td>\n",
       "      <td>1976.0</td>\n",
       "    </tr>\n",
       "    <tr>\n",
       "      <th>1</th>\n",
       "      <td>261998</td>\n",
       "      <td>431</td>\n",
       "      <td>775</td>\n",
       "      <td>BEFREE</td>\n",
       "      <td>NaN</td>\n",
       "      <td>GeneticVariation</td>\n",
       "      <td>However, there are few reports describing soma...</td>\n",
       "      <td>10021299.0</td>\n",
       "      <td>0.40</td>\n",
       "      <td>NaN</td>\n",
       "      <td>0.987013</td>\n",
       "      <td>1999.0</td>\n",
       "    </tr>\n",
       "    <tr>\n",
       "      <th>2</th>\n",
       "      <td>369637</td>\n",
       "      <td>450</td>\n",
       "      <td>775</td>\n",
       "      <td>BEFREE</td>\n",
       "      <td>NaN</td>\n",
       "      <td>GeneticVariation</td>\n",
       "      <td>WAF1 genotype and endometrial cancer susceptib...</td>\n",
       "      <td>10021299.0</td>\n",
       "      <td>0.02</td>\n",
       "      <td>NaN</td>\n",
       "      <td>1.000000</td>\n",
       "      <td>1999.0</td>\n",
       "    </tr>\n",
       "    <tr>\n",
       "      <th>3</th>\n",
       "      <td>2128526</td>\n",
       "      <td>10033</td>\n",
       "      <td>775</td>\n",
       "      <td>BEFREE</td>\n",
       "      <td>NaN</td>\n",
       "      <td>GeneticVariation</td>\n",
       "      <td>WAF1 genotype and endometrial cancer susceptib...</td>\n",
       "      <td>10021299.0</td>\n",
       "      <td>0.07</td>\n",
       "      <td>NaN</td>\n",
       "      <td>1.000000</td>\n",
       "      <td>1999.0</td>\n",
       "    </tr>\n",
       "    <tr>\n",
       "      <th>4</th>\n",
       "      <td>262799</td>\n",
       "      <td>431</td>\n",
       "      <td>7385</td>\n",
       "      <td>BEFREE</td>\n",
       "      <td>NaN</td>\n",
       "      <td>Biomarker</td>\n",
       "      <td>APC and APC2 may therefore have comparable fun...</td>\n",
       "      <td>10021369.0</td>\n",
       "      <td>0.01</td>\n",
       "      <td>NaN</td>\n",
       "      <td>1.000000</td>\n",
       "      <td>1999.0</td>\n",
       "    </tr>\n",
       "  </tbody>\n",
       "</table>\n",
       "</div>"
      ],
      "text/plain": [
       "       NID  diseaseNID  geneNID  source  association   associationType  \\\n",
       "0  1130681        2107      793  BEFREE          NaN         Biomarker   \n",
       "1   261998         431      775  BEFREE          NaN  GeneticVariation   \n",
       "2   369637         450      775  BEFREE          NaN  GeneticVariation   \n",
       "3  2128526       10033      775  BEFREE          NaN  GeneticVariation   \n",
       "4   262799         431     7385  BEFREE          NaN         Biomarker   \n",
       "\n",
       "                                            sentence        pmid  score   EL  \\\n",
       "0  No correlation could be found between Broder's...   1000501.0   0.10  NaN   \n",
       "1  However, there are few reports describing soma...  10021299.0   0.40  NaN   \n",
       "2  WAF1 genotype and endometrial cancer susceptib...  10021299.0   0.02  NaN   \n",
       "3  WAF1 genotype and endometrial cancer susceptib...  10021299.0   0.07  NaN   \n",
       "4  APC and APC2 may therefore have comparable fun...  10021369.0   0.01  NaN   \n",
       "\n",
       "         EI    year  \n",
       "0  0.956175  1976.0  \n",
       "1  0.987013  1999.0  \n",
       "2  1.000000  1999.0  \n",
       "3  1.000000  1999.0  \n",
       "4  1.000000  1999.0  "
      ]
     },
     "execution_count": 2,
     "metadata": {},
     "output_type": "execute_result"
    }
   ],
   "source": [
    "df = pd.read_csv('geneDiseaseNetwork.tsv', sep = \"\\t\")\n",
    "\n",
    "#Printing the first few rows to get a superficial understanding of the dataset\n",
    "df.head()"
   ]
  },
  {
   "cell_type": "code",
   "execution_count": null,
   "id": "c0713b40",
   "metadata": {},
   "outputs": [],
   "source": [
    "dftest = "
   ]
  },
  {
   "cell_type": "code",
   "execution_count": 3,
   "id": "3767f141",
   "metadata": {},
   "outputs": [
    {
     "name": "stdout",
     "output_type": "stream",
     "text": [
      "The size of the dataset is:  (3261324, 12)\n"
     ]
    },
    {
     "data": {
      "text/html": [
       "<div>\n",
       "<style scoped>\n",
       "    .dataframe tbody tr th:only-of-type {\n",
       "        vertical-align: middle;\n",
       "    }\n",
       "\n",
       "    .dataframe tbody tr th {\n",
       "        vertical-align: top;\n",
       "    }\n",
       "\n",
       "    .dataframe thead th {\n",
       "        text-align: right;\n",
       "    }\n",
       "</style>\n",
       "<table border=\"1\" class=\"dataframe\">\n",
       "  <thead>\n",
       "    <tr style=\"text-align: right;\">\n",
       "      <th></th>\n",
       "      <th>NID</th>\n",
       "      <th>diseaseNID</th>\n",
       "      <th>geneNID</th>\n",
       "      <th>association</th>\n",
       "      <th>pmid</th>\n",
       "      <th>score</th>\n",
       "      <th>EI</th>\n",
       "      <th>year</th>\n",
       "    </tr>\n",
       "  </thead>\n",
       "  <tbody>\n",
       "    <tr>\n",
       "      <th>count</th>\n",
       "      <td>3.261324e+06</td>\n",
       "      <td>3.261324e+06</td>\n",
       "      <td>3.261324e+06</td>\n",
       "      <td>88228.000000</td>\n",
       "      <td>3.057890e+06</td>\n",
       "      <td>3.261324e+06</td>\n",
       "      <td>3.090428e+06</td>\n",
       "      <td>3.057890e+06</td>\n",
       "    </tr>\n",
       "    <tr>\n",
       "      <th>mean</th>\n",
       "      <td>1.630662e+06</td>\n",
       "      <td>7.470427e+03</td>\n",
       "      <td>5.447594e+03</td>\n",
       "      <td>0.070374</td>\n",
       "      <td>2.304652e+07</td>\n",
       "      <td>1.796928e-01</td>\n",
       "      <td>9.727383e-01</td>\n",
       "      <td>2.011842e+03</td>\n",
       "    </tr>\n",
       "    <tr>\n",
       "      <th>std</th>\n",
       "      <td>9.414633e+05</td>\n",
       "      <td>7.690316e+03</td>\n",
       "      <td>5.187942e+03</td>\n",
       "      <td>0.255779</td>\n",
       "      <td>7.106197e+06</td>\n",
       "      <td>2.365360e-01</td>\n",
       "      <td>9.088294e-02</td>\n",
       "      <td>7.085840e+00</td>\n",
       "    </tr>\n",
       "    <tr>\n",
       "      <th>min</th>\n",
       "      <td>1.000000e+00</td>\n",
       "      <td>1.000000e+00</td>\n",
       "      <td>1.000000e+00</td>\n",
       "      <td>0.000000</td>\n",
       "      <td>1.600000e+01</td>\n",
       "      <td>1.000000e-02</td>\n",
       "      <td>0.000000e+00</td>\n",
       "      <td>1.924000e+03</td>\n",
       "    </tr>\n",
       "    <tr>\n",
       "      <th>25%</th>\n",
       "      <td>8.153318e+05</td>\n",
       "      <td>1.492000e+03</td>\n",
       "      <td>1.718000e+03</td>\n",
       "      <td>0.000000</td>\n",
       "      <td>1.820908e+07</td>\n",
       "      <td>3.000000e-02</td>\n",
       "      <td>9.756098e-01</td>\n",
       "      <td>2.008000e+03</td>\n",
       "    </tr>\n",
       "    <tr>\n",
       "      <th>50%</th>\n",
       "      <td>1.630662e+06</td>\n",
       "      <td>3.715000e+03</td>\n",
       "      <td>3.803000e+03</td>\n",
       "      <td>0.000000</td>\n",
       "      <td>2.469791e+07</td>\n",
       "      <td>1.000000e-01</td>\n",
       "      <td>1.000000e+00</td>\n",
       "      <td>2.014000e+03</td>\n",
       "    </tr>\n",
       "    <tr>\n",
       "      <th>75%</th>\n",
       "      <td>2.445993e+06</td>\n",
       "      <td>1.197200e+04</td>\n",
       "      <td>7.049000e+03</td>\n",
       "      <td>0.000000</td>\n",
       "      <td>2.913881e+07</td>\n",
       "      <td>2.000000e-01</td>\n",
       "      <td>1.000000e+00</td>\n",
       "      <td>2.018000e+03</td>\n",
       "    </tr>\n",
       "    <tr>\n",
       "      <th>max</th>\n",
       "      <td>3.261324e+06</td>\n",
       "      <td>3.029300e+04</td>\n",
       "      <td>2.613700e+04</td>\n",
       "      <td>1.000000</td>\n",
       "      <td>3.206309e+07</td>\n",
       "      <td>1.000000e+00</td>\n",
       "      <td>1.000000e+00</td>\n",
       "      <td>2.020000e+03</td>\n",
       "    </tr>\n",
       "  </tbody>\n",
       "</table>\n",
       "</div>"
      ],
      "text/plain": [
       "                NID    diseaseNID       geneNID   association          pmid  \\\n",
       "count  3.261324e+06  3.261324e+06  3.261324e+06  88228.000000  3.057890e+06   \n",
       "mean   1.630662e+06  7.470427e+03  5.447594e+03      0.070374  2.304652e+07   \n",
       "std    9.414633e+05  7.690316e+03  5.187942e+03      0.255779  7.106197e+06   \n",
       "min    1.000000e+00  1.000000e+00  1.000000e+00      0.000000  1.600000e+01   \n",
       "25%    8.153318e+05  1.492000e+03  1.718000e+03      0.000000  1.820908e+07   \n",
       "50%    1.630662e+06  3.715000e+03  3.803000e+03      0.000000  2.469791e+07   \n",
       "75%    2.445993e+06  1.197200e+04  7.049000e+03      0.000000  2.913881e+07   \n",
       "max    3.261324e+06  3.029300e+04  2.613700e+04      1.000000  3.206309e+07   \n",
       "\n",
       "              score            EI          year  \n",
       "count  3.261324e+06  3.090428e+06  3.057890e+06  \n",
       "mean   1.796928e-01  9.727383e-01  2.011842e+03  \n",
       "std    2.365360e-01  9.088294e-02  7.085840e+00  \n",
       "min    1.000000e-02  0.000000e+00  1.924000e+03  \n",
       "25%    3.000000e-02  9.756098e-01  2.008000e+03  \n",
       "50%    1.000000e-01  1.000000e+00  2.014000e+03  \n",
       "75%    2.000000e-01  1.000000e+00  2.018000e+03  \n",
       "max    1.000000e+00  1.000000e+00  2.020000e+03  "
      ]
     },
     "execution_count": 3,
     "metadata": {},
     "output_type": "execute_result"
    }
   ],
   "source": [
    "#Printing the Size of the Dataset:\n",
    "print(\"The size of the dataset is: \", df.shape)\n",
    "\n",
    "#Understanding basic information of the data such as min, max, mean, and standard deviation using describe()\n",
    "df.describe()"
   ]
  },
  {
   "cell_type": "code",
   "execution_count": 4,
   "id": "91ebf255",
   "metadata": {},
   "outputs": [
    {
     "data": {
      "text/plain": [
       "NID                      0\n",
       "diseaseNID               0\n",
       "geneNID                  0\n",
       "source                   0\n",
       "association        3173096\n",
       "associationType          0\n",
       "sentence            203437\n",
       "pmid                203434\n",
       "score                    0\n",
       "EL                 3121898\n",
       "EI                  170896\n",
       "year                203434\n",
       "dtype: int64"
      ]
     },
     "execution_count": 4,
     "metadata": {},
     "output_type": "execute_result"
    }
   ],
   "source": [
    "#Checking For Missing Values:\n",
    "df.isnull().sum()"
   ]
  },
  {
   "cell_type": "code",
   "execution_count": 5,
   "id": "294680e6",
   "metadata": {},
   "outputs": [
    {
     "data": {
      "text/plain": [
       "array(['Biomarker', 'GeneticVariation', 'AlteredExpression',\n",
       "       'PosttranslationalModification', 'CausalMutation',\n",
       "       'ChromosomalRearrangement', 'GermlineCausalMutation',\n",
       "       'Therapeutic', 'ModifyingMutation', 'SusceptibilityMutation',\n",
       "       'SomaticCausalMutation', 'FusionGene', 'GermlineModifyingMutation',\n",
       "       'GenomicAlterations'], dtype=object)"
      ]
     },
     "execution_count": 5,
     "metadata": {},
     "output_type": "execute_result"
    }
   ],
   "source": [
    "df['associationType'].unique()"
   ]
  },
  {
   "cell_type": "code",
   "execution_count": 6,
   "id": "215bd27b",
   "metadata": {},
   "outputs": [
    {
     "data": {
      "text/plain": [
       "array([nan,  0.,  1.])"
      ]
     },
     "execution_count": 6,
     "metadata": {},
     "output_type": "execute_result"
    }
   ],
   "source": [
    "df['association'].unique()"
   ]
  },
  {
   "cell_type": "code",
   "execution_count": 7,
   "id": "26a51503",
   "metadata": {},
   "outputs": [
    {
     "data": {
      "text/plain": [
       "30170"
      ]
     },
     "execution_count": 7,
     "metadata": {},
     "output_type": "execute_result"
    }
   ],
   "source": [
    "numdis = df['diseaseNID'].unique()\n",
    "numdis.size"
   ]
  },
  {
   "cell_type": "code",
   "execution_count": 8,
   "id": "f67c00ae",
   "metadata": {},
   "outputs": [
    {
     "data": {
      "text/plain": [
       "21671"
      ]
     },
     "execution_count": 8,
     "metadata": {},
     "output_type": "execute_result"
    }
   ],
   "source": [
    "numgene = df['geneNID'].unique()\n",
    "numgene.size"
   ]
  },
  {
   "cell_type": "code",
   "execution_count": 11,
   "id": "856a5066",
   "metadata": {},
   "outputs": [
    {
     "data": {
      "text/plain": [
       "array(['BEFREE', 'MGD', 'UNIPROT', 'CTD_human', 'RGD', 'CLINVAR',\n",
       "       'CLINGEN', 'GENOMICS_ENGLAND', 'ORPHANET', 'PSYGENET', 'LHGDN',\n",
       "       'CTD_mouse', 'GWASDB', 'GWASCAT', 'CTD_rat', 'HPO', 'CGI'],\n",
       "      dtype=object)"
      ]
     },
     "execution_count": 11,
     "metadata": {},
     "output_type": "execute_result"
    }
   ],
   "source": [
    "df['source'].unique()"
   ]
  },
  {
   "cell_type": "code",
   "execution_count": 9,
   "id": "b4b4ee6f",
   "metadata": {},
   "outputs": [
    {
     "name": "stdout",
     "output_type": "stream",
     "text": [
      "<class 'pandas.core.frame.DataFrame'>\n",
      "RangeIndex: 3261324 entries, 0 to 3261323\n",
      "Data columns (total 12 columns):\n",
      " #   Column           Dtype  \n",
      "---  ------           -----  \n",
      " 0   NID              int64  \n",
      " 1   diseaseNID       int64  \n",
      " 2   geneNID          int64  \n",
      " 3   source           object \n",
      " 4   association      float64\n",
      " 5   associationType  object \n",
      " 6   sentence         object \n",
      " 7   pmid             float64\n",
      " 8   score            float64\n",
      " 9   EL               object \n",
      " 10  EI               float64\n",
      " 11  year             float64\n",
      "dtypes: float64(5), int64(3), object(4)\n",
      "memory usage: 298.6+ MB\n"
     ]
    }
   ],
   "source": [
    "#info() outputs basic information of the data set, including features and their data types\n",
    "df.info()"
   ]
  },
  {
   "cell_type": "code",
   "execution_count": 10,
   "id": "15e247b8",
   "metadata": {},
   "outputs": [
    {
     "data": {
      "image/png": "[encoded data removed]",
      "text/plain": [
       "<IPython.core.display.Image object>"
      ]
     },
     "execution_count": 10,
     "metadata": {},
     "output_type": "execute_result"
    }
   ],
   "source": [
    "from IPython import display\n",
    "display.Image(\"./hierarchy.PNG\")"
   ]
  },
  {
   "cell_type": "markdown",
   "id": "c50a3517",
   "metadata": {},
   "source": [
    "The description of each association type in the ontology is:\n",
    "\n",
    "- Therapeutic: This relationship indicates that the gene/protein has a therapeutic role in the amelioration of the disease.\n",
    "- Biomarker: This relationship indicates that the gene/protein either plays a role in the etiology of the disease (e.g. participates in the molecular mechanism that leads to disease) or is a biomarker for a disease.\n",
    "- Genomic Alterations: This relationship indicates that a genomic alteration is linked to the gene associated with the disease phenotype.\n",
    "- GeneticVariation: This relationship indicates that a sequence variation (a mutation, a SNP) is associated with the disease phenotype, but there is still no evidence to say that the variation causes the disease.\n",
    "- Causal Mutation: This relationship indicates that there are allelic variants or mutations known to cause the disease.\n",
    "- Germline Causal Mutation: This relationship indicates that there are germline allelic variants or mutations known to cause the disease, and they may be passed on to offspring.\n",
    "- Somatic Causal Mutation: This relationship indicates that there are somatic allelic variants or mutations known to cause the disease, but they may not be passed on to offspring.\n",
    "- Chromosomal Rearrangement: This relationship indicates that a gene is included in a chromosomal rearrangement associated with a particular manifestation of the disease.\n",
    "- Fusion Gene: This relationship indicates that the fusion between two different genes (between promoter and/or other coding DNA regions) is associated with the disease.\n",
    "- Susceptibility Mutation: This relationship indicates that a gene mutation in a germ cell that predisposes to the development of a disorder, and that is necessary but not sufficient for the manifestation of the disease.\n",
    "- Modifying Mutation: This relationship indicates that a gene mutation is known to modify the clinical presentation of the disease.\n",
    "- Germline Modifying Mutation: This relationship indicates that a germline gene mutation modifies the clinical presentation of the disease, and it may be passed on to offspring.\n",
    "- Somatic Modifying Mutation: This relationship indicates that a somatic gene mutation modifies the clinical presentation of the disease, but it may not be passed on to offspring.\n",
    "- AlteredExpression: This relationship indicates that an altered expression of the gene is associated with the disease phenotype.\n",
    "- Post-translational Modification: This relationship indicates that alterations in the function of the protein by means of post-translational modifications (methylation or phosphorylation of the protein) are associated with the disease phenotype."
   ]
  },
  {
   "cell_type": "code",
   "execution_count": null,
   "id": "973c928c",
   "metadata": {},
   "outputs": [],
   "source": []
  }
 ],
 "metadata": {
  "kernelspec": {
   "display_name": "Python 3",
   "language": "python",
   "name": "python3"
  },
  "language_info": {
   "codemirror_mode": {
    "name": "ipython",
    "version": 3
   },
   "file_extension": ".py",
   "mimetype": "text/x-python",
   "name": "python",
   "nbconvert_exporter": "python",
   "pygments_lexer": "ipython3",
   "version": "3.8.8"
  }
 },
 "nbformat": 4,
 "nbformat_minor": 5
}
